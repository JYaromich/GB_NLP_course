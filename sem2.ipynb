{
 "cells": [
  {
   "cell_type": "markdown",
   "metadata": {
    "id": "DUotKHRULVPD"
   },
   "source": [
    "# Инструменты для работы с языком "
   ]
  },
  {
   "cell_type": "markdown",
   "metadata": {
    "id": "8ba5Z02VLVPK"
   },
   "source": [
    "## Задача: классификация твитов по тональности\n",
    "\n",
    "У нас есть датасет из твитов, про каждый указано, как он эмоционально окрашен: положительно или отрицательно. Задача: предсказывать эмоциональную окраску.\n",
    "\n",
    "Скачиваем куски датасета ([источник](http://study.mokoron.com/)): [положительные](https://www.dropbox.com/s/fnpq3z4bcnoktiv/positive.csv?dl=0), [отрицательные](https://www.dropbox.com/s/r6u59ljhhjdg6j0/negative.csv)."
   ]
  },
  {
   "cell_type": "code",
   "execution_count": 1,
   "metadata": {
    "colab": {
     "base_uri": "https://localhost:8080/"
    },
    "id": "2zHB70n5LVPN",
    "outputId": "76e9cc41-c912-464c-a06e-e02879e69c08",
    "scrolled": true
   },
   "outputs": [
    {
     "name": "stdout",
     "output_type": "stream",
     "text": [
      "--2022-06-03 12:55:15--  https://www.dropbox.com/s/fnpq3z4bcnoktiv/positive.csv\n",
      "Распознаётся www.dropbox.com (www.dropbox.com)… 162.125.72.18\n",
      "Подключение к www.dropbox.com (www.dropbox.com)|162.125.72.18|:443... соединение установлено.\n",
      "HTTP-запрос отправлен. Ожидание ответа… 301 Moved Permanently\n",
      "Адрес: /s/raw/fnpq3z4bcnoktiv/positive.csv [переход]\n",
      "--2022-06-03 12:55:15--  https://www.dropbox.com/s/raw/fnpq3z4bcnoktiv/positive.csv\n",
      "Повторное использование соединения с www.dropbox.com:443.\n",
      "HTTP-запрос отправлен. Ожидание ответа… 302 Found\n",
      "Адрес: https://ucc9e5f032a76be408ce4b37732a.dl.dropboxusercontent.com/cd/0/inline/Bmcsa0uTCxDH270rBZRLi0s8qQmapcjD2VldtLdLqcMbY_7-pMvBWvGLMK38Qlk331Lu-0J_kAwjMYrZuBI2Y5j-EV8UpCzpDapRo0t8VHfMx7XW-01CQl3O8-B-JlZFaoAGd3tpifcoU8fYd56B5YV3LGKPXGgO4upaldNcQYQqdA/file# [переход]\n",
      "--2022-06-03 12:55:16--  https://ucc9e5f032a76be408ce4b37732a.dl.dropboxusercontent.com/cd/0/inline/Bmcsa0uTCxDH270rBZRLi0s8qQmapcjD2VldtLdLqcMbY_7-pMvBWvGLMK38Qlk331Lu-0J_kAwjMYrZuBI2Y5j-EV8UpCzpDapRo0t8VHfMx7XW-01CQl3O8-B-JlZFaoAGd3tpifcoU8fYd56B5YV3LGKPXGgO4upaldNcQYQqdA/file\n",
      "Распознаётся ucc9e5f032a76be408ce4b37732a.dl.dropboxusercontent.com (ucc9e5f032a76be408ce4b37732a.dl.dropboxusercontent.com)… 162.125.72.15\n",
      "Подключение к ucc9e5f032a76be408ce4b37732a.dl.dropboxusercontent.com (ucc9e5f032a76be408ce4b37732a.dl.dropboxusercontent.com)|162.125.72.15|:443... соединение установлено.\n",
      "HTTP-запрос отправлен. Ожидание ответа… 200 OK\n",
      "Длина: 26233379 (25M) [text/plain]\n",
      "Сохранение в: «positive.csv»\n",
      "\n",
      "positive.csv        100%[===================>]  25,02M  2,86MB/s    за 7,5s    \n",
      "\n",
      "2022-06-03 12:55:25 (3,36 MB/s) - «positive.csv» сохранён [26233379/26233379]\n",
      "\n",
      "--2022-06-03 12:55:25--  https://www.dropbox.com/s/r6u59ljhhjdg6j0/negative.csv\n",
      "Распознаётся www.dropbox.com (www.dropbox.com)… 162.125.72.18\n",
      "Подключение к www.dropbox.com (www.dropbox.com)|162.125.72.18|:443... соединение установлено.\n",
      "HTTP-запрос отправлен. Ожидание ответа… 301 Moved Permanently\n",
      "Адрес: /s/raw/r6u59ljhhjdg6j0/negative.csv [переход]\n",
      "--2022-06-03 12:55:26--  https://www.dropbox.com/s/raw/r6u59ljhhjdg6j0/negative.csv\n",
      "Повторное использование соединения с www.dropbox.com:443.\n",
      "HTTP-запрос отправлен. Ожидание ответа… 302 Found\n",
      "Адрес: https://uc02ed6e04fe66c31c730cb52d1e.dl.dropboxusercontent.com/cd/0/inline/Bmc8pulLehfsMIOGvDYN8OkEH8KWpDpLpzgS3Ei6dRvY_YO-cSp0KLmeMcHfMzbzGrimDeJDRaw5KY6JPo9hEDmH-f56rWdMEbcKjE72jEqTCHVpFGf3oHMVniRt-xFdGC5val_-ewHcG9P6wK00FaTDGhqADA-OV5U-i84KNwjw4A/file# [переход]\n",
      "--2022-06-03 12:55:26--  https://uc02ed6e04fe66c31c730cb52d1e.dl.dropboxusercontent.com/cd/0/inline/Bmc8pulLehfsMIOGvDYN8OkEH8KWpDpLpzgS3Ei6dRvY_YO-cSp0KLmeMcHfMzbzGrimDeJDRaw5KY6JPo9hEDmH-f56rWdMEbcKjE72jEqTCHVpFGf3oHMVniRt-xFdGC5val_-ewHcG9P6wK00FaTDGhqADA-OV5U-i84KNwjw4A/file\n",
      "Распознаётся uc02ed6e04fe66c31c730cb52d1e.dl.dropboxusercontent.com (uc02ed6e04fe66c31c730cb52d1e.dl.dropboxusercontent.com)… 162.125.72.15\n",
      "Подключение к uc02ed6e04fe66c31c730cb52d1e.dl.dropboxusercontent.com (uc02ed6e04fe66c31c730cb52d1e.dl.dropboxusercontent.com)|162.125.72.15|:443... соединение установлено.\n",
      "HTTP-запрос отправлен. Ожидание ответа… 200 OK\n",
      "Длина: 24450101 (23M) [text/plain]\n",
      "Сохранение в: «negative.csv»\n",
      "\n",
      "negative.csv        100%[===================>]  23,32M  2,87MB/s    за 6,9s    \n",
      "\n",
      "2022-06-03 12:55:34 (3,39 MB/s) - «negative.csv» сохранён [24450101/24450101]\n",
      "\n"
     ]
    }
   ],
   "source": [
    "# если у вас линукс / мак / collab или ещё какая-то среда, в которой работает wget, можно так:\n",
    "!wget https://www.dropbox.com/s/fnpq3z4bcnoktiv/positive.csv\n",
    "!wget https://www.dropbox.com/s/r6u59ljhhjdg6j0/negative.csv"
   ]
  },
  {
   "cell_type": "code",
   "execution_count": 4,
   "metadata": {
    "id": "J5YiZNCPLVPe"
   },
   "outputs": [],
   "source": [
    "import pandas as pd\n",
    "import numpy as np\n",
    "from sklearn.metrics import *\n",
    "from sklearn.model_selection import train_test_split\n",
    "from sklearn.pipeline import Pipeline"
   ]
  },
  {
   "cell_type": "code",
   "execution_count": 5,
   "metadata": {
    "id": "DFLtXAZ-LVPq"
   },
   "outputs": [],
   "source": [
    "# считываем данные и заполняем общий датасет\n",
    "positive = pd.read_csv('positive.csv', sep=';', usecols=[3], names=['text'])\n",
    "positive['label'] = ['positive'] * len(positive)\n",
    "negative = pd.read_csv('negative.csv', sep=';', usecols=[3], names=['text'])\n",
    "negative['label'] = ['negative'] * len(negative)\n",
    "df = positive.append(negative)"
   ]
  },
  {
   "cell_type": "code",
   "execution_count": 8,
   "metadata": {
    "colab": {
     "base_uri": "https://localhost:8080/",
     "height": 203
    },
    "id": "j1AEISlBLVP0",
    "outputId": "443eadf2-9df4-4507-f2a5-a64f7968182f"
   },
   "outputs": [
    {
     "data": {
      "text/html": [
       "<div>\n",
       "<style scoped>\n",
       "    .dataframe tbody tr th:only-of-type {\n",
       "        vertical-align: middle;\n",
       "    }\n",
       "\n",
       "    .dataframe tbody tr th {\n",
       "        vertical-align: top;\n",
       "    }\n",
       "\n",
       "    .dataframe thead th {\n",
       "        text-align: right;\n",
       "    }\n",
       "</style>\n",
       "<table border=\"1\" class=\"dataframe\">\n",
       "  <thead>\n",
       "    <tr style=\"text-align: right;\">\n",
       "      <th></th>\n",
       "      <th>text</th>\n",
       "      <th>label</th>\n",
       "    </tr>\n",
       "  </thead>\n",
       "  <tbody>\n",
       "    <tr>\n",
       "      <th>111918</th>\n",
       "      <td>Но не каждый хочет что то исправлять:( http://...</td>\n",
       "      <td>negative</td>\n",
       "    </tr>\n",
       "    <tr>\n",
       "      <th>111919</th>\n",
       "      <td>скучаю так :-( только @taaannyaaa вправляет мо...</td>\n",
       "      <td>negative</td>\n",
       "    </tr>\n",
       "    <tr>\n",
       "      <th>111920</th>\n",
       "      <td>Вот и в школу, в говно это идти уже надо(</td>\n",
       "      <td>negative</td>\n",
       "    </tr>\n",
       "    <tr>\n",
       "      <th>111921</th>\n",
       "      <td>RT @_Them__: @LisaBeroud Тауриэль, не грусти :...</td>\n",
       "      <td>negative</td>\n",
       "    </tr>\n",
       "    <tr>\n",
       "      <th>111922</th>\n",
       "      <td>Такси везет меня на работу. Раздумываю приплат...</td>\n",
       "      <td>negative</td>\n",
       "    </tr>\n",
       "  </tbody>\n",
       "</table>\n",
       "</div>"
      ],
      "text/plain": [
       "                                                     text     label\n",
       "111918  Но не каждый хочет что то исправлять:( http://...  negative\n",
       "111919  скучаю так :-( только @taaannyaaa вправляет мо...  negative\n",
       "111920          Вот и в школу, в говно это идти уже надо(  negative\n",
       "111921  RT @_Them__: @LisaBeroud Тауриэль, не грусти :...  negative\n",
       "111922  Такси везет меня на работу. Раздумываю приплат...  negative"
      ]
     },
     "execution_count": 8,
     "metadata": {},
     "output_type": "execute_result"
    }
   ],
   "source": [
    "df.tail()"
   ]
  },
  {
   "cell_type": "code",
   "execution_count": 20,
   "metadata": {
    "id": "ZWta7oDgLVP8"
   },
   "outputs": [],
   "source": [
    "x_train, x_test, y_train, y_test = train_test_split(df.text, df.label)"
   ]
  },
  {
   "cell_type": "markdown",
   "metadata": {
    "id": "tAapBC7VLVQC"
   },
   "source": [
    "## Baseline: классификация необработанных n-грамм\n",
    "\n",
    "### Векторизаторы"
   ]
  },
  {
   "cell_type": "code",
   "execution_count": 19,
   "metadata": {
    "id": "M-AvVt8XLVQD"
   },
   "outputs": [],
   "source": [
    "from sklearn.linear_model import LogisticRegression # можно заменить на любимый классификатор\n",
    "from sklearn.feature_extraction.text import CountVectorizer"
   ]
  },
  {
   "cell_type": "markdown",
   "metadata": {
    "id": "GSuoVoxcLVQI"
   },
   "source": [
    "Что такое n-граммы:"
   ]
  },
  {
   "cell_type": "code",
   "execution_count": 17,
   "metadata": {
    "id": "zeNA7732LVQJ"
   },
   "outputs": [],
   "source": [
    "from nltk import ngrams"
   ]
  },
  {
   "cell_type": "code",
   "execution_count": 18,
   "metadata": {
    "colab": {
     "base_uri": "https://localhost:8080/"
    },
    "id": "NeApDOmrLVQN",
    "outputId": "d8c763fe-2658-47ac-fcee-5b7bbe49f0d0"
   },
   "outputs": [
    {
     "data": {
      "text/plain": [
       "[('Если',), ('б',), ('мне',), ('платили',), ('каждый',), ('раз',)]"
      ]
     },
     "execution_count": 18,
     "metadata": {},
     "output_type": "execute_result"
    }
   ],
   "source": [
    "sent = 'Если б мне платили каждый раз'.split()\n",
    "list(ngrams(sent, 1)) # униграммы"
   ]
  },
  {
   "cell_type": "code",
   "execution_count": 19,
   "metadata": {
    "colab": {
     "base_uri": "https://localhost:8080/"
    },
    "id": "OPAS0fS-LVQQ",
    "outputId": "aa3ae031-c661-4639-b7ab-f93ba1b6cee5"
   },
   "outputs": [
    {
     "data": {
      "text/plain": [
       "[('Если', 'б'),\n",
       " ('б', 'мне'),\n",
       " ('мне', 'платили'),\n",
       " ('платили', 'каждый'),\n",
       " ('каждый', 'раз')]"
      ]
     },
     "execution_count": 19,
     "metadata": {},
     "output_type": "execute_result"
    }
   ],
   "source": [
    "list(ngrams(sent, 2)) # биграммы"
   ]
  },
  {
   "cell_type": "code",
   "execution_count": 20,
   "metadata": {
    "colab": {
     "base_uri": "https://localhost:8080/"
    },
    "id": "d77jmVPhLVQU",
    "outputId": "c8de801b-8efc-437e-8673-4e9e31665ea5"
   },
   "outputs": [
    {
     "data": {
      "text/plain": [
       "[('Если', 'б', 'мне'),\n",
       " ('б', 'мне', 'платили'),\n",
       " ('мне', 'платили', 'каждый'),\n",
       " ('платили', 'каждый', 'раз')]"
      ]
     },
     "execution_count": 20,
     "metadata": {},
     "output_type": "execute_result"
    }
   ],
   "source": [
    "list(ngrams(sent, 3)) # триграммы"
   ]
  },
  {
   "cell_type": "code",
   "execution_count": 21,
   "metadata": {
    "colab": {
     "base_uri": "https://localhost:8080/"
    },
    "id": "5xXTBrGELVQX",
    "outputId": "f5b423d9-db6b-4efa-8bfa-a446a55ee018"
   },
   "outputs": [
    {
     "data": {
      "text/plain": [
       "[('Если', 'б', 'мне', 'платили', 'каждый'),\n",
       " ('б', 'мне', 'платили', 'каждый', 'раз')]"
      ]
     },
     "execution_count": 21,
     "metadata": {},
     "output_type": "execute_result"
    }
   ],
   "source": [
    "list(ngrams(sent, 5)) # ... пентаграммы?"
   ]
  },
  {
   "cell_type": "markdown",
   "metadata": {
    "id": "eHGJBEm-LVQb"
   },
   "source": [
    "Самый простой способ извлечь фичи из текстовых данных -- векторизаторы: `CountVectorizer` и `TfidfVectorizer`\n",
    "\n",
    "Объект `CountVectorizer` делает простую вещь:\n",
    "* строит для каждого документа (каждой пришедшей ему строки) вектор размерности `n`, где `n` -- количество слов или n-грам во всём корпусе\n",
    "* заполняет каждый i-тый элемент количеством вхождений слова в данный документ"
   ]
  },
  {
   "cell_type": "code",
   "execution_count": 22,
   "metadata": {
    "id": "eMqZFBTgLVQb"
   },
   "outputs": [],
   "source": [
    "vec = CountVectorizer(ngram_range=(1, 1))\n",
    "bow = vec.fit_transform(x_train) # bow -- bag of words (мешок слов)"
   ]
  },
  {
   "cell_type": "markdown",
   "metadata": {
    "id": "AZkpqVtILVQe"
   },
   "source": [
    "ngram_range отвечает за то, какие n-граммы мы используем в качестве фичей:<br/>\n",
    "ngram_range=(1, 1) -- униграммы<br/>\n",
    "ngram_range=(3, 3) -- триграммы<br/>\n",
    "ngram_range=(1, 3) -- униграммы, биграммы и триграммы.\n",
    "\n",
    "В vec.vocabulary_ лежит словарь: мэппинг слов к их индексам:"
   ]
  },
  {
   "cell_type": "code",
   "execution_count": 23,
   "metadata": {
    "colab": {
     "base_uri": "https://localhost:8080/"
    },
    "id": "hWRtOSzKLVQf",
    "outputId": "668857b0-def2-4547-8fd5-014fe3858bec"
   },
   "outputs": [
    {
     "data": {
      "text/plain": [
       "[('alpirat', 11488),\n",
       " ('cio_optimal', 21163),\n",
       " ('ну', 169340),\n",
       " ('пошалил', 191439),\n",
       " ('кем', 144354),\n",
       " ('не', 165259),\n",
       " ('бывает', 109141),\n",
       " ('главное', 119882),\n",
       " ('человек', 236354),\n",
       " ('хороший', 233995)]"
      ]
     },
     "execution_count": 23,
     "metadata": {},
     "output_type": "execute_result"
    }
   ],
   "source": [
    "list(vec.vocabulary_.items())[:10]"
   ]
  },
  {
   "cell_type": "code",
   "execution_count": 28,
   "metadata": {
    "colab": {
     "base_uri": "https://localhost:8080/"
    },
    "id": "hkmX3iBbLVQi",
    "outputId": "5bbb432e-1c45-422a-edc2-60841ef0ee33"
   },
   "outputs": [
    {
     "name": "stderr",
     "output_type": "stream",
     "text": [
      "/Users/janeyaromich/miniconda3/envs/tensorflow/lib/python3.7/site-packages/sklearn/linear_model/_logistic.py:818: ConvergenceWarning: lbfgs failed to converge (status=1):\n",
      "STOP: TOTAL NO. of ITERATIONS REACHED LIMIT.\n",
      "\n",
      "Increase the number of iterations (max_iter) or scale the data as shown in:\n",
      "    https://scikit-learn.org/stable/modules/preprocessing.html\n",
      "Please also refer to the documentation for alternative solver options:\n",
      "    https://scikit-learn.org/stable/modules/linear_model.html#logistic-regression\n",
      "  extra_warning_msg=_LOGISTIC_SOLVER_CONVERGENCE_MSG,\n"
     ]
    },
    {
     "data": {
      "text/plain": [
       "LogisticRegression(random_state=42)"
      ]
     },
     "execution_count": 28,
     "metadata": {},
     "output_type": "execute_result"
    }
   ],
   "source": [
    "clf = LogisticRegression(random_state=42)\n",
    "clf.fit(bow, y_train)"
   ]
  },
  {
   "cell_type": "code",
   "execution_count": 29,
   "metadata": {
    "colab": {
     "base_uri": "https://localhost:8080/"
    },
    "id": "bJ8q5_59LVQm",
    "outputId": "d88c6de2-640a-4cc9-ae95-29fe12c80131"
   },
   "outputs": [
    {
     "name": "stdout",
     "output_type": "stream",
     "text": [
      "              precision    recall  f1-score   support\n",
      "\n",
      "    negative       0.77      0.75      0.76     28202\n",
      "    positive       0.76      0.77      0.77     28507\n",
      "\n",
      "    accuracy                           0.76     56709\n",
      "   macro avg       0.76      0.76      0.76     56709\n",
      "weighted avg       0.76      0.76      0.76     56709\n",
      "\n"
     ]
    }
   ],
   "source": [
    "pred = clf.predict(vec.transform(x_test))\n",
    "print(classification_report(pred, y_test))"
   ]
  },
  {
   "cell_type": "markdown",
   "metadata": {
    "id": "QAhgaYgqLVQp"
   },
   "source": [
    "Попробуем сделать то же самое для триграмм:"
   ]
  },
  {
   "cell_type": "code",
   "execution_count": 30,
   "metadata": {
    "colab": {
     "base_uri": "https://localhost:8080/"
    },
    "id": "GPWXlh6ALVQq",
    "outputId": "094a7189-bc36-42df-81ee-f599a206ca0c"
   },
   "outputs": [
    {
     "name": "stderr",
     "output_type": "stream",
     "text": [
      "/Users/janeyaromich/miniconda3/envs/tensorflow/lib/python3.7/site-packages/sklearn/linear_model/_logistic.py:818: ConvergenceWarning: lbfgs failed to converge (status=1):\n",
      "STOP: TOTAL NO. of ITERATIONS REACHED LIMIT.\n",
      "\n",
      "Increase the number of iterations (max_iter) or scale the data as shown in:\n",
      "    https://scikit-learn.org/stable/modules/preprocessing.html\n",
      "Please also refer to the documentation for alternative solver options:\n",
      "    https://scikit-learn.org/stable/modules/linear_model.html#logistic-regression\n",
      "  extra_warning_msg=_LOGISTIC_SOLVER_CONVERGENCE_MSG,\n"
     ]
    },
    {
     "name": "stdout",
     "output_type": "stream",
     "text": [
      "              precision    recall  f1-score   support\n",
      "\n",
      "    negative       0.85      0.57      0.68     41286\n",
      "    positive       0.39      0.73      0.51     15423\n",
      "\n",
      "    accuracy                           0.61     56709\n",
      "   macro avg       0.62      0.65      0.59     56709\n",
      "weighted avg       0.72      0.61      0.63     56709\n",
      "\n"
     ]
    }
   ],
   "source": [
    "vec = CountVectorizer(ngram_range=(3, 3))\n",
    "bow = vec.fit_transform(x_train)\n",
    "clf = LogisticRegression(random_state=42)\n",
    "clf.fit(bow, y_train)\n",
    "pred = clf.predict(vec.transform(x_test))\n",
    "print(classification_report(pred, y_test))"
   ]
  },
  {
   "cell_type": "markdown",
   "metadata": {
    "id": "dnfyJkzTLVQu"
   },
   "source": [
    "(как вы думаете, почему в результатах теперь такой разброс по сравнению с униграммами?)"
   ]
  },
  {
   "cell_type": "code",
   "execution_count": 39,
   "metadata": {},
   "outputs": [
    {
     "name": "stdout",
     "output_type": "stream",
     "text": [
      "Vec dim with tree-gramm: 243577\n",
      "Vec dim with tree-gramm: 1327636\n"
     ]
    }
   ],
   "source": [
    "vec_uno_gramm = CountVectorizer(ngram_range=(1, 1))\n",
    "vec_uno_gramm.fit(x_train)\n",
    "print('Vec dim with tree-gramm:', len(vec_uno_gramm.vocabulary_))\n",
    "\n",
    "vec_tree_gramm = CountVectorizer(ngram_range=(3, 3))\n",
    "vec_tree_gramm.fit(x_train)\n",
    "print('Vec dim with tree-gramm:', len(vec_tree_gramm.vocabulary_))"
   ]
  },
  {
   "cell_type": "markdown",
   "metadata": {},
   "source": [
    "**`Ответ`**: Три-граммы в жизни встречаются не так уж часто, по сравнению с уни-граммами. n-граммы полезны для создание векторов которые несут другой смысл по сравнению тремя уни-граммами. Примером могут быть различные устойчивые выражения (а их значительно меньше чем уни-грамм). \n",
    "\n",
    "Из вышесказанного следует, что применение три-грамм в лоб не только не поможет, но и усугубит ситуацию. Применив три-граммы в лоб, мы увеличиваем размерность пространсва на порядок (вероятность встретить одинаковые три-граммы значительно ниже вероятности встретить одинаковые слова). Так же извесно, что линейные классификаторы страдают проклятием размерности.\n",
    "\n",
    "Из вышесказаного становится понятны полученые результаты"
   ]
  },
  {
   "cell_type": "markdown",
   "metadata": {
    "id": "gJABxhalLVQu"
   },
   "source": [
    "## TF-IDF векторизация"
   ]
  },
  {
   "cell_type": "markdown",
   "metadata": {
    "id": "-LJES2s-LVQv"
   },
   "source": [
    "`TfidfVectorizer` делает то же, что и `CountVectorizer`, но в качестве значений – tf-idf каждого слова.\n",
    "\n",
    "Как считается tf-idf:\n",
    "\n",
    "TF (term frequency) – относительная частотность слова в документе:\n",
    "$$ TF(t,d) = \\frac{n_t}{\\sum_k n_k} $$\n",
    "\n",
    "`t` -- слово (term), `d` -- документ, $n_t$ -- количество вхождений слова, $n_k$ -- количество вхождений остальных слов\n",
    "\n",
    "IDF (inverse document frequency) – обратная частота документов, в которых есть это слово:\n",
    "$$ IDF(t, D) = \\mbox{log} \\frac{|D|}{|{d : t \\in d}|} $$\n",
    "\n",
    "`t` -- слово (term), `D` -- коллекция документов\n",
    "\n",
    "Перемножаем их:\n",
    "$$TFIDF_(t,d,D) = TF(t,d) \\times IDF(i, D)$$\n",
    "\n",
    "Сакральный смысл – если слово часто встречается в одном документе, но в целом по корпусу встречается в небольшом \n",
    "количестве документов, у него высокий TF-IDF."
   ]
  },
  {
   "cell_type": "code",
   "execution_count": 62,
   "metadata": {
    "id": "FmEcRD28LVQ0"
   },
   "outputs": [],
   "source": [
    "from sklearn.feature_extraction.text import TfidfVectorizer"
   ]
  },
  {
   "cell_type": "code",
   "execution_count": 41,
   "metadata": {
    "colab": {
     "base_uri": "https://localhost:8080/"
    },
    "id": "AWLhMl9xLVQ3",
    "outputId": "054e5662-1c41-42f6-92e4-ce0194317ce8"
   },
   "outputs": [
    {
     "name": "stdout",
     "output_type": "stream",
     "text": [
      "              precision    recall  f1-score   support\n",
      "\n",
      "    negative       0.73      0.76      0.75     26459\n",
      "    positive       0.79      0.75      0.77     30250\n",
      "\n",
      "    accuracy                           0.76     56709\n",
      "   macro avg       0.76      0.76      0.76     56709\n",
      "weighted avg       0.76      0.76      0.76     56709\n",
      "\n"
     ]
    }
   ],
   "source": [
    "vec = TfidfVectorizer(ngram_range=(1, 1))\n",
    "bow = vec.fit_transform(x_train)\n",
    "clf = LogisticRegression(random_state=42)\n",
    "clf.fit(bow, y_train)\n",
    "pred = clf.predict(vec.transform(x_test))\n",
    "print(classification_report(pred, y_test))"
   ]
  },
  {
   "cell_type": "markdown",
   "metadata": {
    "id": "HTODTRnKLVQ6"
   },
   "source": [
    "В этот раз получилось хуже :( Вернёмся к `CountVectorizer`."
   ]
  },
  {
   "cell_type": "markdown",
   "metadata": {
    "id": "j8v9Scpn9Y0M"
   },
   "source": [
    "## PMI"
   ]
  },
  {
   "cell_type": "markdown",
   "metadata": {
    "id": "WVRqLcSY0etj"
   },
   "source": [
    "Можно оценить взаимосвязь слов в корпусе и понять, какие биграммы наиболее часто встречаются в тексте. Для этого можно использовать метрику PMI (Pointwise Mutual Information) - поточечная взаимная информация. Метрика PMI для двух слов вычисляется по формуле:\n",
    "\n",
    "$$pmi(x; y) = log \\frac{p(x,y)}{p(x)p(y)} $$\n",
    "\n",
    "Здесь p(y|x) - вероятность встретить слово $y$ после $x$, $p(y)$ - вероятность встретить слово $y$."
   ]
  },
  {
   "cell_type": "markdown",
   "metadata": {
    "id": "WXgDwf6W6Kk5"
   },
   "source": [
    "Оценим важность биграмм в нашем обучающем корпусе."
   ]
  },
  {
   "cell_type": "code",
   "execution_count": 43,
   "metadata": {
    "colab": {
     "base_uri": "https://localhost:8080/"
    },
    "id": "LKmiOEaW53F9",
    "outputId": "96a85968-e0cb-4b17-cd62-bc3de5e3e9b3"
   },
   "outputs": [
    {
     "name": "stderr",
     "output_type": "stream",
     "text": [
      "[nltk_data] Downloading package genesis to\n",
      "[nltk_data]     /Users/janeyaromich/nltk_data...\n",
      "[nltk_data]   Unzipping corpora/genesis.zip.\n"
     ]
    },
    {
     "name": "stdout",
     "output_type": "stream",
     "text": [
      "<class 'nltk.corpus.reader.util.StreamBackedCorpusView'>\n",
      "[('+1239', '728'), ('+375447167151', 'звоги'), ('+живіт', 'болить.ну'), ('+погода', 'крутая='), (',4', 'запирайте'), (',Дела', 'рез'), (',как', 'додики'), ('-/////', 'прбрм-прбрм'), ('-10,11', 'болсо'), ('-53', 'dBm'), ('-800', 'нахууй'), ('-АХАХАХАХ', 'ЮБКУ'), ('-АХАХАХАХХАХАХАХАХАХХА', '-АХАХАХХАХАХАХАХАХ'), ('-Айгуль', 'Маратовна'), ('-Алина', '-Синие'), ('-Белоснежная', 'мантия'), ('-ВАХАХАХА', 'СТИПЕНДИЯ'), ('-ВСЕМ', 'СПОКОЙНЫХ'), ('-Весело', 'кншн:3'), ('-Выздоравливай', 'педрилк'), ('-ДЕТЕЙ', 'НАКРЫЛО'), ('-ДОВАЙТИ', 'АЛДСКУЛ'), ('-Домашка', '-кл.час'), ('-Дядь', 'Юр'), ('-ЖРАТЬ', 'БАРАНКИ'), ('-ЗАШЛА', 'ОДЕЛА'), ('-Защитано', '-ес'), ('-Зелено-карие', '-Киллджой'), ('-Киллджой', '-Котик'), ('-Корнейчук', 'затроллила'), ('-Маладец', '-Лол'), ('-НА', 'РЕАЛЬНЫХ'), ('-НАЧИНАЕТ', 'БЕСИТЬ'), ('-ОЗВУЧИВАТЕЛЬ', 'МУЛЬТИКОВ'), ('-ОНИ', 'СТОЯТ'), ('-Олесь', '-Пошёл'), ('-Песня', 'грусная='), ('-Плохое', 'пищеварение'), ('-Поэзия', 'заключает'), ('-ПриФетиГг', 'СолНыСко='), ('-СУКА', 'ЛУКАШИН'), ('-Серые', '-НЕМЕЦКИЕ'), ('-Танцы', '-Хорошие'), ('-Тиць', 'дурне'), ('-Трахався', '-Іди'), ('-ФОН', '-БИО'), ('-ШАПКА', '-ФОН'), ('-ЮН', '-ЮП'), ('-ЮП', '-ШАПКА'), ('-анатолий', 'николаевич'), ('-аниме', '-15-16'), ('-бляя', 'хммммммм'), ('-водичку', 'лью'), ('-г', 'үзээ'), ('-гoop', 'Хакүхо'), ('-говорит', 'одноногий'), ('-дирекшионер', '-one'), ('-иногда', '.Ностальгирую'), ('-карие', '-черные'), ('-киллджой', '-шатенка'), ('-кошка', '-зеленые'), ('-кучи', 'мутики'), ('-ладно', '-АХАХАХАХХАХАХАХАХАХХА'), ('-ложусь', 'спать-темно'), ('-любому', 'умрёшь'), ('-мега', 'шизофреничная'), ('-место', '-кровать'), ('-напиши', '-нит'), ('-новый', 'молодежный'), ('-нужно', 'ПРАВО'), ('-патлатые', '-лысый'), ('-пиздишь', '-отвечаю'), ('-пиши', 'Ненси'), ('-пойду', 'дожр…'), ('-попробуй', 'помедитировать'), ('-раз', 'плёткой'), ('-распускаю', 'волосы-'), ('-руу', 'орох'), ('-спрашивает', 'жена.-У'), ('-столько', 'бабосов'), ('-такое', 'ВЧ-8='), ('-тогда', 'друг…'), ('-удивительная', 'штука.Его'), ('-указуказуказуказуа', '-материшся'), ('-хор', '-найл'), ('-хуи', 'сосешь'), ('-хуле', 'депрессушный'), ('-цвета', 'Магнита'), ('-цитирую', 'гастролога'), ('-черные', '-аниме'), ('-шапку', '-фон'), ('-ынхаа', 'кодын'), ('-эртага', 'бозорга'), ('-юн', '-юп'), ('-юп', '-шапку'), ('-языком', 'владеешь'), ('.NET', 'языки.'), ('.Прозвучало', 'неубедительно.Учитель'), ('.Спасибо', 'Бердянску'), ('.Суудлынхаа', 'даруулгыг')]\n"
     ]
    }
   ],
   "source": [
    "import nltk\n",
    "from nltk import collocations \n",
    "nltk.download('genesis')\n",
    "\n",
    "print(type(nltk.corpus.genesis.words('english-web.txt')))\n",
    "bigram_measures = collocations.BigramAssocMeasures()\n",
    "# bigram_finder.apply_freq_filter(5)\n",
    "bigram_finder = collocations.BigramCollocationFinder.from_documents([nltk.word_tokenize(x) for x in x_train])\n",
    "bigrams = bigram_finder.nbest(bigram_measures.pmi, 100)\n",
    "print(bigrams)"
   ]
  },
  {
   "cell_type": "markdown",
   "metadata": {
    "id": "_h4Cq1PUTTc-"
   },
   "source": [
    "Можно рассмотреть другие метрики оценки важности биграмм, например, метрику правдоподобия (подробнее про вычисление метрики можно посмотреть [здесь (пункт 5.3.4)](http://www.corpus.unam.mx/cursoenah/ManningSchutze_1999_FoundationsofStatisticalNaturalLanguageProcessing.pdf):"
   ]
  },
  {
   "cell_type": "code",
   "execution_count": 44,
   "metadata": {
    "colab": {
     "base_uri": "https://localhost:8080/"
    },
    "id": "lTOJg4KoOo84",
    "outputId": "45d38953-84e0-4a65-fccd-1e96fd83c3f3"
   },
   "outputs": [
    {
     "name": "stdout",
     "output_type": "stream",
     "text": [
      "[('(', '('), ('RT', '@'), (')', ')'), ('http', ':'), ('!', '!'), (':', 'D'), ('у', 'меня'), (':', '('), (',', 'а'), (',', 'что'), (',', 'но'), (')', 'http'), ('*', '*'), ('(', ','), (':', ')'), ('у', 'нас'), (',', '('), ('не', 'могу'), (':', '-'), (',', ')'), ('?', '?'), (')', ','), (',', ':'), ('@', '('), (',', ','), (':', ','), ('(', ':'), ('@', ')'), ('со', 'мной'), ('@', ','), ('&', 'lt'), ('@', ':'), ('(', '@'), (':', ':'), (';', ')'), ('новый', 'год'), ('gt', ';'), ('не', 'знаю'), (')', ':'), (':', '*'), (',', '@'), ('а', 'я'), ('У', 'меня'), ('@', '@'), ('потому', 'что'), ('сих', 'пор'), (',', 'когда'), ('lt', ';'), ('у', 'тебя'), ('&', 'gt'), (';', '('), ('все', 'равно'), ('с', 'тобой'), (',', 'как'), ('в', 'школу'), ('(', 'http'), ('Доброе', 'утро'), (')', '@'), ('-', ')'), ('ничего', 'не'), ('&', 'amp'), ('Как', 'же'), (',', 'я'), ('я', 'не'), (':', 'DD'), ('не', '('), ('самом', 'деле'), ('как', 'же'), ('не', ')'), (',', 'чтобы'), ('(', '!'), ('до', 'сих'), ('что', 'я'), ('об', 'этом'), (',', '!'), ('amp', ';'), ('--', '--'), ('D', 'http'), ('не', ':'), ('никто', 'не'), ('с', 'кем'), ('=', ')'), ('.', 'А'), ('и', '('), ('!', ','), (':', '!'), ('?', '—'), ('а', 'потом'), ('никогда', 'не'), (':', '|'), ('и', ')'), (',', '.'), ('.', ','), ('@', 'не'), ('не', '@'), ('“', '@'), ('Новый', 'Год'), ('.', 'Но'), ('#', 'євромайдан'), ('не', 'хочу')]\n"
     ]
    }
   ],
   "source": [
    "bigrams = bigram_finder.nbest(bigram_measures.likelihood_ratio, 100)\n",
    "print(bigrams)"
   ]
  },
  {
   "cell_type": "markdown",
   "metadata": {
    "id": "NfjCYZa8TeX_"
   },
   "source": [
    "Как можно заметить, немаловажную роль в текстах занимает пунктуация."
   ]
  },
  {
   "cell_type": "markdown",
   "metadata": {
    "id": "5AJk1B39LVRP"
   },
   "source": [
    "## Стоп-слова и пунктуация\n",
    "\n",
    "*Стоп-слова* -- это слова, которые часто встречаются практически в любом тексте и ничего интересного не говорят о конретном документе, то есть играют роль шума. Поэтому их принято убирать. По той же причине убирают и пунктуацию."
   ]
  },
  {
   "cell_type": "code",
   "execution_count": 45,
   "metadata": {
    "colab": {
     "base_uri": "https://localhost:8080/"
    },
    "id": "fpWhsTuRLVRP",
    "outputId": "1cd18efe-a3cd-4f56-ec4c-bec8b6ee442e"
   },
   "outputs": [
    {
     "name": "stdout",
     "output_type": "stream",
     "text": [
      "['и', 'в', 'во', 'не', 'что', 'он', 'на', 'я', 'с', 'со', 'как', 'а', 'то', 'все', 'она', 'так', 'его', 'но', 'да', 'ты', 'к', 'у', 'же', 'вы', 'за', 'бы', 'по', 'только', 'ее', 'мне', 'было', 'вот', 'от', 'меня', 'еще', 'нет', 'о', 'из', 'ему', 'теперь', 'когда', 'даже', 'ну', 'вдруг', 'ли', 'если', 'уже', 'или', 'ни', 'быть', 'был', 'него', 'до', 'вас', 'нибудь', 'опять', 'уж', 'вам', 'ведь', 'там', 'потом', 'себя', 'ничего', 'ей', 'может', 'они', 'тут', 'где', 'есть', 'надо', 'ней', 'для', 'мы', 'тебя', 'их', 'чем', 'была', 'сам', 'чтоб', 'без', 'будто', 'чего', 'раз', 'тоже', 'себе', 'под', 'будет', 'ж', 'тогда', 'кто', 'этот', 'того', 'потому', 'этого', 'какой', 'совсем', 'ним', 'здесь', 'этом', 'один', 'почти', 'мой', 'тем', 'чтобы', 'нее', 'сейчас', 'были', 'куда', 'зачем', 'всех', 'никогда', 'можно', 'при', 'наконец', 'два', 'об', 'другой', 'хоть', 'после', 'над', 'больше', 'тот', 'через', 'эти', 'нас', 'про', 'всего', 'них', 'какая', 'много', 'разве', 'три', 'эту', 'моя', 'впрочем', 'хорошо', 'свою', 'этой', 'перед', 'иногда', 'лучше', 'чуть', 'том', 'нельзя', 'такой', 'им', 'более', 'всегда', 'конечно', 'всю', 'между']\n"
     ]
    },
    {
     "name": "stderr",
     "output_type": "stream",
     "text": [
      "[nltk_data] Downloading package stopwords to\n",
      "[nltk_data]     /Users/janeyaromich/nltk_data...\n",
      "[nltk_data]   Package stopwords is already up-to-date!\n"
     ]
    }
   ],
   "source": [
    "# у вас здесь, вероятно, выскочит ошибка и надо будет загрузить стоп слова (в тексте ошибки написано, как)\n",
    "from nltk.corpus import stopwords\n",
    "nltk.download('stopwords')\n",
    "print(stopwords.words('russian'))"
   ]
  },
  {
   "cell_type": "code",
   "execution_count": 6,
   "metadata": {
    "colab": {
     "base_uri": "https://localhost:8080/",
     "height": 35
    },
    "id": "OdRF7rlyLVRS",
    "outputId": "dd4ce4f0-13d0-4b21-a3a1-b9ecb281894f"
   },
   "outputs": [
    {
     "data": {
      "text/plain": [
       "'!\"#$%&\\'()*+,-./:;<=>?@[\\\\]^_`{|}~'"
      ]
     },
     "execution_count": 6,
     "metadata": {},
     "output_type": "execute_result"
    }
   ],
   "source": [
    "from string import punctuation\n",
    "punctuation"
   ]
  },
  {
   "cell_type": "code",
   "execution_count": 47,
   "metadata": {
    "id": "OfXiH98XLVRV"
   },
   "outputs": [],
   "source": [
    "noise = stopwords.words('russian') + list(punctuation)"
   ]
  },
  {
   "cell_type": "markdown",
   "metadata": {
    "id": "KtiIhHDMLVRY"
   },
   "source": [
    "В векторизаторах за стоп-слова, логичным образом, отвечает аргумент `stop_words`."
   ]
  },
  {
   "cell_type": "code",
   "execution_count": 49,
   "metadata": {
    "colab": {
     "base_uri": "https://localhost:8080/"
    },
    "id": "IZnbarm_LVRY",
    "outputId": "88f40278-165a-46ad-a75e-2e5d8e7e3a4d"
   },
   "outputs": [
    {
     "name": "stderr",
     "output_type": "stream",
     "text": [
      "/Users/janeyaromich/miniconda3/envs/tensorflow/lib/python3.7/site-packages/sklearn/feature_extraction/text.py:401: UserWarning: Your stop_words may be inconsistent with your preprocessing. Tokenizing the stop words generated tokens ['``'] not in stop_words.\n",
      "  % sorted(inconsistent)\n",
      "/Users/janeyaromich/miniconda3/envs/tensorflow/lib/python3.7/site-packages/sklearn/linear_model/_logistic.py:818: ConvergenceWarning: lbfgs failed to converge (status=1):\n",
      "STOP: TOTAL NO. of ITERATIONS REACHED LIMIT.\n",
      "\n",
      "Increase the number of iterations (max_iter) or scale the data as shown in:\n",
      "    https://scikit-learn.org/stable/modules/preprocessing.html\n",
      "Please also refer to the documentation for alternative solver options:\n",
      "    https://scikit-learn.org/stable/modules/linear_model.html#logistic-regression\n",
      "  extra_warning_msg=_LOGISTIC_SOLVER_CONVERGENCE_MSG,\n"
     ]
    },
    {
     "name": "stdout",
     "output_type": "stream",
     "text": [
      "              precision    recall  f1-score   support\n",
      "\n",
      "    negative       0.80      0.76      0.78     29131\n",
      "    positive       0.76      0.80      0.78     27578\n",
      "\n",
      "    accuracy                           0.78     56709\n",
      "   macro avg       0.78      0.78      0.78     56709\n",
      "weighted avg       0.78      0.78      0.78     56709\n",
      "\n"
     ]
    }
   ],
   "source": [
    "vec = CountVectorizer(ngram_range=(1, 1), tokenizer=nltk.word_tokenize, stop_words=noise)\n",
    "bow = vec.fit_transform(x_train)\n",
    "clf = LogisticRegression(random_state=42)\n",
    "clf.fit(bow, y_train)\n",
    "pred = clf.predict(vec.transform(x_test))\n",
    "print(classification_report(pred, y_test))"
   ]
  },
  {
   "cell_type": "markdown",
   "metadata": {
    "id": "wr934O7yLVRb"
   },
   "source": [
    "Получилось чууть лучше. Что ещё можно сделать?"
   ]
  },
  {
   "cell_type": "markdown",
   "metadata": {
    "id": "D7O_oD1fLVRc"
   },
   "source": [
    "## Лемматизация\n",
    "\n",
    "Лемматизация – это сведение разных форм одного слова к начальной форме – *лемме*. Почему это хорошо?\n",
    "* Во-первых, мы хотим рассматривать как отдельную фичу каждое *слово*, а не каждую его отдельную форму.\n",
    "* Во-вторых, некоторые стоп-слова стоят только в начальной форме, и без лематизации выкидываем мы только её.\n",
    "\n",
    "Для русского есть два хороших лемматизатора: mystem и pymorphy:\n",
    "\n",
    "### [Mystem](https://tech.yandex.ru/mystem/)\n",
    "Как с ним работать:\n",
    "* можно скачать mystem и запускать [из терминала с разными параметрами](https://tech.yandex.ru/mystem/doc/)\n",
    "* [pymystem3](https://pythonhosted.org/pymystem3/pymystem3.html) - обертка для питона, работает медленнее, но это удобно"
   ]
  },
  {
   "cell_type": "code",
   "execution_count": 50,
   "metadata": {
    "colab": {
     "base_uri": "https://localhost:8080/"
    },
    "id": "96HdoB7zLVRc",
    "outputId": "987397bc-55cb-4830-c361-5568f1f2e015"
   },
   "outputs": [
    {
     "name": "stdout",
     "output_type": "stream",
     "text": [
      "--2022-06-03 14:54:12--  http://download.cdn.yandex.net/mystem/mystem-3.0-linux3.1-64bit.tar.gz\n",
      "Распознаётся download.cdn.yandex.net (download.cdn.yandex.net)… 5.45.205.243, 5.45.205.241, 5.45.205.245, ...\n",
      "Подключение к download.cdn.yandex.net (download.cdn.yandex.net)|5.45.205.243|:80... соединение установлено.\n",
      "HTTP-запрос отправлен. Ожидание ответа… 302 Found\n",
      "Адрес: https://cachev2-mskm910.cdn.yandex.net/download.cdn.yandex.net/mystem/mystem-3.0-linux3.1-64bit.tar.gz?lid=187 [переход]\n",
      "--2022-06-03 14:54:12--  https://cachev2-mskm910.cdn.yandex.net/download.cdn.yandex.net/mystem/mystem-3.0-linux3.1-64bit.tar.gz?lid=187\n",
      "Распознаётся cachev2-mskm910.cdn.yandex.net (cachev2-mskm910.cdn.yandex.net)… 5.45.220.121\n",
      "Подключение к cachev2-mskm910.cdn.yandex.net (cachev2-mskm910.cdn.yandex.net)|5.45.220.121|:443... соединение установлено.\n",
      "HTTP-запрос отправлен. Ожидание ответа… 200 OK\n",
      "Длина: 16457938 (16M) [application/octet-stream]\n",
      "Сохранение в: «mystem-3.0-linux3.1-64bit.tar.gz»\n",
      "\n",
      "mystem-3.0-linux3.1 100%[===================>]  15,70M  3,30MB/s    за 4,1s    \n",
      "\n",
      "2022-06-03 14:54:17 (3,84 MB/s) - «mystem-3.0-linux3.1-64bit.tar.gz» сохранён [16457938/16457938]\n",
      "\n",
      "x mystem\n",
      "cp: /bin/mystem: Operation not permitted\n"
     ]
    }
   ],
   "source": [
    "!wget http://download.cdn.yandex.net/mystem/mystem-3.0-linux3.1-64bit.tar.gz\n",
    "!tar -xvf mystem-3.0-linux3.1-64bit.tar.gz\n",
    "!cp mystem /bin"
   ]
  },
  {
   "cell_type": "code",
   "execution_count": 53,
   "metadata": {
    "id": "kzQwGwAaZWV5"
   },
   "outputs": [
    {
     "name": "stderr",
     "output_type": "stream",
     "text": [
      "Installing mystem to /Users/janeyaromich/.local/bin/mystem from http://download.cdn.yandex.net/mystem/mystem-3.1-macosx.tar.gz\n"
     ]
    }
   ],
   "source": [
    "from pymystem3 import Mystem\n",
    "mystem_analyzer = Mystem()"
   ]
  },
  {
   "cell_type": "markdown",
   "metadata": {
    "id": "_w-_fkNtLVRf"
   },
   "source": [
    "Мы инициализировали Mystem c дефолтными параметрами. А вообще параметры есть такие:\n",
    "* mystem_bin - путь к `mystem`, если их несколько\n",
    "* grammar_info - нужна ли грамматическая информация или только леммы (по дефолту нужна)\n",
    "* disambiguation - нужно ли снятие омонимии - дизамбигуация (по дефолту нужна)\n",
    "* entire_input - нужно ли сохранять в выводе все (пробелы всякие, например), или можно выкинуть (по дефолту оставляется все)\n",
    "\n",
    "Методы Mystem принимают строку, токенизатор вшит внутри. Можно, конечно, и пословно анализировать, но тогда он не сможет учитывать контекст.\n",
    "\n",
    "Можно просто лемматизировать текст:"
   ]
  },
  {
   "cell_type": "code",
   "execution_count": 55,
   "metadata": {
    "colab": {
     "base_uri": "https://localhost:8080/"
    },
    "id": "fjHHLQv9txDq",
    "outputId": "35bcb3cc-7853-48bf-d38d-04157f45221d"
   },
   "outputs": [],
   "source": [
    "# print(mystem_analyzer.lemmatize(example))"
   ]
  },
  {
   "cell_type": "markdown",
   "metadata": {
    "id": "RI1eftjkLVRi"
   },
   "source": [
    "А можно получить грамматическую информацию:"
   ]
  },
  {
   "cell_type": "code",
   "execution_count": null,
   "metadata": {
    "colab": {
     "base_uri": "https://localhost:8080/"
    },
    "id": "j4MLqlZnxNEj",
    "outputId": "ffb676bb-932e-4579-817a-c15616431521"
   },
   "outputs": [
    {
     "data": {
      "text/plain": [
       "[{'analysis': [{'gr': 'CONJ=', 'lex': 'но', 'wt': 0.9998906255}],\n",
       "  'text': 'Но'},\n",
       " {'text': ' '},\n",
       " {'analysis': [{'gr': 'PART=', 'lex': 'не', 'wt': 1}], 'text': 'не'},\n",
       " {'text': ' '},\n",
       " {'analysis': [{'gr': 'APRO=(вин,ед,муж,неод|им,ед,муж)',\n",
       "    'lex': 'каждый',\n",
       "    'wt': 0.9985975623}],\n",
       "  'text': 'каждый'},\n",
       " {'text': ' '},\n",
       " {'analysis': [{'gr': 'V,несов,пе=непрош,ед,изъяв,3-л',\n",
       "    'lex': 'хотеть',\n",
       "    'wt': 1}],\n",
       "  'text': 'хочет'},\n",
       " {'text': ' '},\n",
       " {'analysis': [{'gr': 'SPRO,ед,сред,неод=(вин|им)', 'lex': 'что-то', 'wt': 1}],\n",
       "  'text': 'что-то'},\n",
       " {'text': ' '},\n",
       " {'analysis': [{'gr': 'V,пе=инф,несов', 'lex': 'исправлять', 'wt': 1}],\n",
       "  'text': 'исправлять'},\n",
       " {'text': ':(\\n'}]"
      ]
     },
     "execution_count": 39,
     "metadata": {},
     "output_type": "execute_result"
    }
   ],
   "source": [
    "# mystem_analyzer.analyze(example)"
   ]
  },
  {
   "cell_type": "markdown",
   "metadata": {
    "id": "ADcGtz4JLVRl"
   },
   "source": [
    "Давайте терепь используем лемматизатор майстема в качестве токенизатора."
   ]
  },
  {
   "cell_type": "code",
   "execution_count": 56,
   "metadata": {
    "id": "x48Q56tiLVRn"
   },
   "outputs": [],
   "source": [
    "import re\n",
    "def my_preproc(text):\n",
    "    text = re.sub('[{}]'.format(punctuation), '', text)\n",
    "    text = mystem_analyzer.lemmatize(text)\n",
    "    return [word for word in text if word not in stopwords.words('russian') + [' ', '\\n']]"
   ]
  },
  {
   "cell_type": "code",
   "execution_count": 57,
   "metadata": {
    "colab": {
     "base_uri": "https://localhost:8080/"
    },
    "id": "wEwOQTJPLVRq",
    "outputId": "b1047a05-9fa7-4994-c947-578cfc4d9825"
   },
   "outputs": [
    {
     "name": "stderr",
     "output_type": "stream",
     "text": [
      "/Users/janeyaromich/miniconda3/envs/tensorflow/lib/python3.7/site-packages/sklearn/linear_model/_logistic.py:818: ConvergenceWarning: lbfgs failed to converge (status=1):\n",
      "STOP: TOTAL NO. of ITERATIONS REACHED LIMIT.\n",
      "\n",
      "Increase the number of iterations (max_iter) or scale the data as shown in:\n",
      "    https://scikit-learn.org/stable/modules/preprocessing.html\n",
      "Please also refer to the documentation for alternative solver options:\n",
      "    https://scikit-learn.org/stable/modules/linear_model.html#logistic-regression\n",
      "  extra_warning_msg=_LOGISTIC_SOLVER_CONVERGENCE_MSG,\n"
     ]
    },
    {
     "name": "stdout",
     "output_type": "stream",
     "text": [
      "              precision    recall  f1-score   support\n",
      "\n",
      "    negative       0.77      0.74      0.75     28773\n",
      "    positive       0.74      0.77      0.76     27936\n",
      "\n",
      "    accuracy                           0.76     56709\n",
      "   macro avg       0.76      0.76      0.76     56709\n",
      "weighted avg       0.76      0.76      0.76     56709\n",
      "\n"
     ]
    }
   ],
   "source": [
    "vec = CountVectorizer(ngram_range=(1, 1), tokenizer=my_preproc)\n",
    "bow = vec.fit_transform(x_train)\n",
    "clf = LogisticRegression(random_state=42)\n",
    "clf.fit(bow, y_train)\n",
    "pred = clf.predict(vec.transform(x_test))\n",
    "print(classification_report(pred, y_test))"
   ]
  },
  {
   "cell_type": "markdown",
   "metadata": {
    "id": "RJlvqWuALVRs"
   },
   "source": [
    "### [Pymorphy](http://pymorphy2.readthedocs.io/en/latest/)\n",
    "Это модуль на питоне, довольно быстрый и с кучей функций."
   ]
  },
  {
   "cell_type": "code",
   "execution_count": 58,
   "metadata": {
    "colab": {
     "base_uri": "https://localhost:8080/"
    },
    "id": "tHDkurN1zf7g",
    "outputId": "c9934446-bf72-4603-8a51-9f6ebf406e44"
   },
   "outputs": [
    {
     "name": "stdout",
     "output_type": "stream",
     "text": [
      "Collecting pymorphy2\n",
      "  Using cached pymorphy2-0.9.1-py3-none-any.whl (55 kB)\n",
      "Collecting pymorphy2-dicts-ru<3.0,>=2.4\n",
      "  Using cached pymorphy2_dicts_ru-2.4.417127.4579844-py2.py3-none-any.whl (8.2 MB)\n",
      "Collecting dawg-python>=0.7.1\n",
      "  Using cached DAWG_Python-0.7.2-py2.py3-none-any.whl (11 kB)\n",
      "Collecting docopt>=0.6\n",
      "  Using cached docopt-0.6.2.tar.gz (25 kB)\n",
      "Building wheels for collected packages: docopt\n",
      "  Building wheel for docopt (setup.py) ... \u001b[?25ldone\n",
      "\u001b[?25h  Created wheel for docopt: filename=docopt-0.6.2-py2.py3-none-any.whl size=13723 sha256=13bdc2138ea8cfe8955f3db1cd940bb876c745eb39c744421dea1f98aad9381d\n",
      "  Stored in directory: /Users/janeyaromich/Library/Caches/pip/wheels/72/b0/3f/1d95f96ff986c7dfffe46ce2be4062f38ebd04b506c77c81b9\n",
      "Successfully built docopt\n",
      "Installing collected packages: pymorphy2-dicts-ru, docopt, dawg-python, pymorphy2\n",
      "Successfully installed dawg-python-0.7.2 docopt-0.6.2 pymorphy2-0.9.1 pymorphy2-dicts-ru-2.4.417127.4579844\n"
     ]
    }
   ],
   "source": [
    "!pip install pymorphy2"
   ]
  },
  {
   "cell_type": "code",
   "execution_count": 59,
   "metadata": {
    "id": "7SlwsLU7LVRt"
   },
   "outputs": [],
   "source": [
    "from pymorphy2 import MorphAnalyzer\n",
    "pymorphy2_analyzer = MorphAnalyzer()"
   ]
  },
  {
   "cell_type": "markdown",
   "metadata": {
    "id": "Qaz0x7frLVRw"
   },
   "source": [
    "pymorphy2 работает с отдельными словами. Если дать ему на вход предложение - он его просто не лемматизирует, т.к. не понимает"
   ]
  },
  {
   "cell_type": "code",
   "execution_count": 60,
   "metadata": {
    "colab": {
     "base_uri": "https://localhost:8080/"
    },
    "id": "jdf6XoEbLVRw",
    "outputId": "a1984e06-dbeb-4377-896d-b7014b6b84c1"
   },
   "outputs": [
    {
     "data": {
      "text/plain": [
       "[Parse(word='платили', tag=OpencorporaTag('VERB,impf,tran plur,past,indc'), normal_form='платить', score=1.0, methods_stack=((DictionaryAnalyzer(), 'платили', 2472, 10),))]"
      ]
     },
     "execution_count": 60,
     "metadata": {},
     "output_type": "execute_result"
    }
   ],
   "source": [
    "ana = pymorphy2_analyzer.parse(sent[3])\n",
    "ana"
   ]
  },
  {
   "cell_type": "code",
   "execution_count": 61,
   "metadata": {
    "colab": {
     "base_uri": "https://localhost:8080/",
     "height": 35
    },
    "id": "0KuHQGPgLVRz",
    "outputId": "3cdbe79d-ec3f-4a07-ff3a-52e8810face1"
   },
   "outputs": [
    {
     "data": {
      "text/plain": [
       "'платить'"
      ]
     },
     "execution_count": 61,
     "metadata": {},
     "output_type": "execute_result"
    }
   ],
   "source": [
    "ana[0].normal_form"
   ]
  },
  {
   "cell_type": "code",
   "execution_count": null,
   "metadata": {
    "id": "gg0EASPcLVR8"
   },
   "outputs": [],
   "source": []
  },
  {
   "cell_type": "markdown",
   "metadata": {
    "id": "gFTkF8xUARlS"
   },
   "source": [
    "### [Natasha](https://github.com/natasha/)\n",
    "\n",
    "В библиотеке natasha реализовано множество полезных библиотек для русского языка: разбиение на токены и предложения, русскоязычные word embeddings, морфологический, синтаксический анализ, лемматизация, извлечение именованных сущностей и т.д. Модуль библиотеки Razdel, основанный на правилах, предназначен для разбиения текста на токены и предложения."
   ]
  },
  {
   "cell_type": "code",
   "execution_count": 62,
   "metadata": {
    "colab": {
     "base_uri": "https://localhost:8080/"
    },
    "id": "-CVeDxeIA6rg",
    "outputId": "ff583009-ae7a-4b68-b6a7-ca1ba48c0732"
   },
   "outputs": [
    {
     "name": "stdout",
     "output_type": "stream",
     "text": [
      "Collecting razdel\n",
      "  Using cached razdel-0.5.0-py3-none-any.whl (21 kB)\n",
      "Installing collected packages: razdel\n",
      "Successfully installed razdel-0.5.0\n"
     ]
    }
   ],
   "source": [
    "!pip install razdel"
   ]
  },
  {
   "cell_type": "code",
   "execution_count": 63,
   "metadata": {
    "colab": {
     "base_uri": "https://localhost:8080/"
    },
    "id": "MOTkw9MpAnNN",
    "outputId": "51fc6e54-3b82-4c1c-91c2-5b6a60f6304f"
   },
   "outputs": [
    {
     "data": {
      "text/plain": [
       "[Substring(0, 13, 'Кружка-термос'),\n",
       " Substring(14, 16, 'на'),\n",
       " Substring(17, 20, '0.5'),\n",
       " Substring(20, 21, 'л'),\n",
       " Substring(22, 23, '('),\n",
       " Substring(23, 28, '50/64'),\n",
       " Substring(29, 32, 'см³'),\n",
       " Substring(32, 33, ','),\n",
       " Substring(34, 37, '516'),\n",
       " Substring(37, 38, ';'),\n",
       " Substring(38, 41, '...'),\n",
       " Substring(41, 42, ')')]"
      ]
     },
     "execution_count": 63,
     "metadata": {},
     "output_type": "execute_result"
    }
   ],
   "source": [
    "from razdel import tokenize\n",
    "\n",
    "tokens = list(tokenize('Кружка-термос на 0.5л (50/64 см³, 516;...)'))\n",
    "tokens"
   ]
  },
  {
   "cell_type": "code",
   "execution_count": 64,
   "metadata": {
    "colab": {
     "base_uri": "https://localhost:8080/"
    },
    "id": "Ftx-WzUbBCpO",
    "outputId": "40c67fa4-fab6-4c1b-f651-06951a38798e"
   },
   "outputs": [
    {
     "data": {
      "text/plain": [
       "['Кружка-термос',\n",
       " 'на',\n",
       " '0.5',\n",
       " 'л',\n",
       " '(',\n",
       " '50/64',\n",
       " 'см³',\n",
       " ',',\n",
       " '516',\n",
       " ';',\n",
       " '...',\n",
       " ')']"
      ]
     },
     "execution_count": 64,
     "metadata": {},
     "output_type": "execute_result"
    }
   ],
   "source": [
    "[_.text for _ in tokens]"
   ]
  },
  {
   "cell_type": "code",
   "execution_count": 65,
   "metadata": {
    "colab": {
     "base_uri": "https://localhost:8080/"
    },
    "id": "uyhsQp4MGbW8",
    "outputId": "55f84576-aaad-4a68-c5d9-38dc0ea2f721"
   },
   "outputs": [
    {
     "name": "stdout",
     "output_type": "stream",
     "text": [
      "Collecting natasha\n",
      "  Downloading natasha-1.4.0-py3-none-any.whl (34.4 MB)\n",
      "\u001b[K     |████████████████████████████████| 34.4 MB 168 kB/s eta 0:00:01\n",
      "\u001b[?25hRequirement already satisfied: razdel>=0.5.0 in /Users/janeyaromich/miniconda3/envs/tensorflow/lib/python3.7/site-packages (from natasha) (0.5.0)\n",
      "Collecting yargy>=0.14.0\n",
      "  Downloading yargy-0.15.0-py3-none-any.whl (41 kB)\n",
      "\u001b[K     |████████████████████████████████| 41 kB 237 kB/s eta 0:00:01\n",
      "\u001b[?25hCollecting navec>=0.9.0\n",
      "  Downloading navec-0.10.0-py3-none-any.whl (23 kB)\n",
      "Requirement already satisfied: pymorphy2 in /Users/janeyaromich/miniconda3/envs/tensorflow/lib/python3.7/site-packages (from natasha) (0.9.1)\n",
      "Collecting slovnet>=0.3.0\n",
      "  Downloading slovnet-0.5.0-py3-none-any.whl (49 kB)\n",
      "\u001b[K     |████████████████████████████████| 49 kB 2.9 MB/s eta 0:00:01\n",
      "\u001b[?25hCollecting ipymarkup>=0.8.0\n",
      "  Downloading ipymarkup-0.9.0-py3-none-any.whl (14 kB)\n",
      "Collecting intervaltree>=3\n",
      "  Downloading intervaltree-3.1.0.tar.gz (32 kB)\n",
      "Collecting sortedcontainers<3.0,>=2.0\n",
      "  Using cached sortedcontainers-2.4.0-py2.py3-none-any.whl (29 kB)\n",
      "Requirement already satisfied: numpy in /Users/janeyaromich/miniconda3/envs/tensorflow/lib/python3.7/site-packages (from navec>=0.9.0->natasha) (1.21.2)\n",
      "Requirement already satisfied: pymorphy2-dicts-ru<3.0,>=2.4 in /Users/janeyaromich/miniconda3/envs/tensorflow/lib/python3.7/site-packages (from pymorphy2->natasha) (2.4.417127.4579844)\n",
      "Requirement already satisfied: docopt>=0.6 in /Users/janeyaromich/miniconda3/envs/tensorflow/lib/python3.7/site-packages (from pymorphy2->natasha) (0.6.2)\n",
      "Requirement already satisfied: dawg-python>=0.7.1 in /Users/janeyaromich/miniconda3/envs/tensorflow/lib/python3.7/site-packages (from pymorphy2->natasha) (0.7.2)\n",
      "Building wheels for collected packages: intervaltree\n",
      "  Building wheel for intervaltree (setup.py) ... \u001b[?25ldone\n",
      "\u001b[?25h  Created wheel for intervaltree: filename=intervaltree-3.1.0-py2.py3-none-any.whl size=26119 sha256=328b4f08274e00d6ed3a9c79bffb5c381965adfb317417a76f6587f193cd71a5\n",
      "  Stored in directory: /Users/janeyaromich/Library/Caches/pip/wheels/16/85/bd/1001cbb46dcfb71c2001cd7401c6fb250392f22a81ce3722f7\n",
      "Successfully built intervaltree\n",
      "Installing collected packages: sortedcontainers, navec, intervaltree, yargy, slovnet, ipymarkup, natasha\n",
      "Successfully installed intervaltree-3.1.0 ipymarkup-0.9.0 natasha-1.4.0 navec-0.10.0 slovnet-0.5.0 sortedcontainers-2.4.0 yargy-0.15.0\n"
     ]
    }
   ],
   "source": [
    "!pip install natasha"
   ]
  },
  {
   "cell_type": "markdown",
   "metadata": {
    "id": "jMO3jsqLKSIV"
   },
   "source": [
    "С помощью библиотеки natasha можно также лемматизировать тексты."
   ]
  },
  {
   "cell_type": "code",
   "execution_count": 66,
   "metadata": {
    "id": "vJZgfRnvIS2q"
   },
   "outputs": [],
   "source": [
    "from natasha import Doc, MorphVocab, Segmenter, NewsEmbedding, NewsMorphTagger\n",
    "\n",
    "segmenter = Segmenter()\n",
    "morph_vocab = MorphVocab()\n",
    "emb = NewsEmbedding()\n",
    "morph_tagger = NewsMorphTagger(emb)\n",
    "\n",
    "def natasha_lemmatize(text):\n",
    "  doc = Doc(text)\n",
    "  doc.segment(segmenter)\n",
    "  doc.tag_morph(morph_tagger)\n",
    "  for token in doc.tokens:\n",
    "    token.lemmatize(morph_vocab)\n",
    "  return {_.text: _.lemma for _ in doc.tokens}"
   ]
  },
  {
   "cell_type": "code",
   "execution_count": 67,
   "metadata": {
    "colab": {
     "base_uri": "https://localhost:8080/"
    },
    "id": "iBtlnYlFBOKv",
    "outputId": "47a9e7d6-7f03-4e93-e57c-84dce5657d97"
   },
   "outputs": [
    {
     "data": {
      "text/plain": [
       "{'Посол': 'посол',\n",
       " 'Израиля': 'израиль',\n",
       " 'на': 'на',\n",
       " 'Украине': 'украина',\n",
       " 'Йоэль': 'йоэль',\n",
       " 'Лион': 'лион',\n",
       " 'признался': 'признаться',\n",
       " ',': ',',\n",
       " 'что': 'что',\n",
       " 'пришел': 'прийти',\n",
       " 'в': 'в',\n",
       " 'шок': 'шок',\n",
       " 'узнав': 'узнать',\n",
       " 'о': 'о',\n",
       " 'решении': 'решение',\n",
       " 'властей': 'власть',\n",
       " 'Львовской': 'львовский',\n",
       " 'области': 'область',\n",
       " 'объявить': 'объявить',\n",
       " '2019': '2019',\n",
       " 'год': 'год',\n",
       " 'годом': 'год',\n",
       " 'лидера': 'лидер',\n",
       " 'запрещенной': 'запретить',\n",
       " 'России': 'россия',\n",
       " 'Организации': 'организация',\n",
       " 'украинских': 'украинский',\n",
       " 'националистов': 'националист',\n",
       " '(': '(',\n",
       " 'ОУН': 'оун',\n",
       " ')': ')',\n",
       " 'Степана': 'степан',\n",
       " 'Бандеры': 'бандера',\n",
       " '.': '.',\n",
       " 'Свое': 'свой',\n",
       " 'заявление': 'заявление',\n",
       " 'он': 'он',\n",
       " 'разместил': 'разместить',\n",
       " 'Twitter': 'twitter',\n",
       " '«': '«',\n",
       " 'Я': 'я',\n",
       " 'не': 'не',\n",
       " 'могу': 'мочь',\n",
       " 'понять': 'понять',\n",
       " 'как': 'как',\n",
       " 'прославление': 'прославление',\n",
       " 'тех': 'тот',\n",
       " 'кто': 'кто',\n",
       " 'непосредственно': 'непосредственно',\n",
       " 'принимал': 'принимать',\n",
       " 'участие': 'участие',\n",
       " 'ужасных': 'ужасный',\n",
       " 'антисемитских': 'антисемитский',\n",
       " 'преступлениях': 'преступление',\n",
       " 'помогает': 'помогать',\n",
       " 'бороться': 'бороться',\n",
       " 'с': 'с',\n",
       " 'антисемитизмом': 'антисемитизм',\n",
       " 'и': 'и',\n",
       " 'ксенофобией': 'ксенофобия',\n",
       " 'Украина': 'украина',\n",
       " 'должна': 'должный',\n",
       " 'забывать': 'забывать',\n",
       " 'совершенных': 'совершить',\n",
       " 'против': 'против',\n",
       " 'евреев': 'еврей',\n",
       " 'никоим': 'никой',\n",
       " 'образом': 'образ',\n",
       " 'отмечать': 'отмечать',\n",
       " 'их': 'они',\n",
       " 'через': 'через',\n",
       " 'почитание': 'почитание',\n",
       " 'исполнителей': 'исполнитель',\n",
       " '»': '»',\n",
       " '—': '—',\n",
       " 'написал': 'написать',\n",
       " 'дипломат': 'дипломат',\n",
       " '11': '11',\n",
       " 'декабря': 'декабрь',\n",
       " 'Львовский': 'львовский',\n",
       " 'областной': 'областной',\n",
       " 'совет': 'совет',\n",
       " 'принял': 'принять',\n",
       " 'решение': 'решение',\n",
       " 'провозгласить': 'провозгласить',\n",
       " 'регионе': 'регион',\n",
       " 'связи': 'связь',\n",
       " 'празднованием': 'празднование',\n",
       " '110-летия': '110-летие',\n",
       " 'со': 'с',\n",
       " 'дня': 'день',\n",
       " 'рождения': 'рождение',\n",
       " 'Бандера': 'бандера',\n",
       " 'родился': 'родиться',\n",
       " '1': '1',\n",
       " 'января': 'январь',\n",
       " '1909': '1909',\n",
       " 'года': 'год',\n",
       " 'В': 'в',\n",
       " 'июле': 'июль',\n",
       " 'аналогичное': 'аналогичный',\n",
       " 'Житомирский': 'житомирский',\n",
       " 'начале': 'начало',\n",
       " 'месяца': 'месяц',\n",
       " 'предложением': 'предложение',\n",
       " 'к': 'к',\n",
       " 'президенту': 'президент',\n",
       " 'страны': 'страна',\n",
       " 'Петру': 'петр',\n",
       " 'Порошенко': 'порошенко',\n",
       " 'вернуть': 'вернуть',\n",
       " 'Бандере': 'бандера',\n",
       " 'звание': 'звание',\n",
       " 'Героя': 'герой',\n",
       " 'Украины': 'украина',\n",
       " 'обратились': 'обратиться',\n",
       " 'депутаты': 'депутат',\n",
       " 'Верховной': 'верховный',\n",
       " 'Рады': 'рада',\n",
       " 'Парламентарии': 'парламентарий',\n",
       " 'уверены': 'уверить',\n",
       " 'признание': 'признание',\n",
       " 'национальным': 'национальный',\n",
       " 'героем': 'герой',\n",
       " 'поможет': 'помочь',\n",
       " 'борьбе': 'борьба',\n",
       " 'подрывной': 'подрывной',\n",
       " 'деятельностью': 'деятельность',\n",
       " 'информационном': 'информационный',\n",
       " 'поле': 'поле',\n",
       " 'а': 'а',\n",
       " 'также': 'также',\n",
       " 'остановит': 'остановить',\n",
       " 'распространение': 'распространение',\n",
       " 'мифов': 'миф',\n",
       " 'созданных': 'создать',\n",
       " 'российской': 'российский',\n",
       " 'пропагандой': 'пропаганда',\n",
       " 'Степан': 'степан',\n",
       " '1909-1959': '1909-1959',\n",
       " 'был': 'быть',\n",
       " 'одним': 'один',\n",
       " 'из': 'из',\n",
       " 'лидеров': 'лидер',\n",
       " 'выступающей': 'выступать',\n",
       " 'за': 'за',\n",
       " 'создание': 'создание',\n",
       " 'независимого': 'независимый',\n",
       " 'государства': 'государство',\n",
       " 'территориях': 'территория',\n",
       " 'украиноязычным': 'украиноязычный',\n",
       " 'населением': 'население',\n",
       " '2010': '2010',\n",
       " 'году': 'год',\n",
       " 'период': 'период',\n",
       " 'президентства': 'президентство',\n",
       " 'Виктора': 'виктор',\n",
       " 'Ющенко': 'ющенко',\n",
       " 'посмертно': 'посмертно',\n",
       " 'признан': 'признать',\n",
       " 'Героем': 'герой',\n",
       " 'однако': 'однако',\n",
       " 'впоследствии': 'впоследствии',\n",
       " 'это': 'это',\n",
       " 'было': 'быть',\n",
       " 'отменено': 'отменить',\n",
       " 'судом': 'суд'}"
      ]
     },
     "execution_count": 67,
     "metadata": {},
     "output_type": "execute_result"
    }
   ],
   "source": [
    "text = 'Посол Израиля на Украине Йоэль Лион признался, что пришел в шок, узнав о решении властей Львовской области объявить 2019 год годом лидера запрещенной в России Организации украинских националистов (ОУН) Степана Бандеры. Свое заявление он разместил в Twitter. «Я не могу понять, как прославление тех, кто непосредственно принимал участие в ужасных антисемитских преступлениях, помогает бороться с антисемитизмом и ксенофобией. Украина не должна забывать о преступлениях, совершенных против украинских евреев, и никоим образом не отмечать их через почитание их исполнителей», — написал дипломат. 11 декабря Львовский областной совет принял решение провозгласить 2019 год в регионе годом Степана Бандеры в связи с празднованием 110-летия со дня рождения лидера ОУН (Бандера родился 1 января 1909 года). В июле аналогичное решение принял Житомирский областной совет. В начале месяца с предложением к президенту страны Петру Порошенко вернуть Бандере звание Героя Украины обратились депутаты Верховной Рады. Парламентарии уверены, что признание Бандеры национальным героем поможет в борьбе с подрывной деятельностью против Украины в информационном поле, а также остановит «распространение мифов, созданных российской пропагандой». Степан Бандера (1909-1959) был одним из лидеров Организации украинских националистов, выступающей за создание независимого государства на территориях с украиноязычным населением. В 2010 году в период президентства Виктора Ющенко Бандера был посмертно признан Героем Украины, однако впоследствии это решение было отменено судом. '\n",
    "\n",
    "natasha_lemmatize(text)"
   ]
  },
  {
   "cell_type": "markdown",
   "metadata": {
    "id": "rck5OVqhLVSA"
   },
   "source": [
    "### mystem vs. pymorphy vs. natasha\n",
    "\n",
    "1) *Мы надеемся, что вы пользуетесь линуксом*, но mystem работает невероятно медленно под windows на больших текстах.\n",
    "\n",
    "2) *Снятие омонимии*. Mystem умеет снимать омонимию по контексту (хотя не всегда преуспевает), pymorphy2 берет на вход одно слово и соответственно вообще не умеет дизамбигуировать по контексту, natasha тоже с этим тоже не справляется успешно:"
   ]
  },
  {
   "cell_type": "code",
   "execution_count": 68,
   "metadata": {
    "id": "kH2GQ4ddLVSB"
   },
   "outputs": [],
   "source": [
    "homonym1 = 'За время обучения я прослушал больше сорока курсов.'\n",
    "homonym2 = 'Сорока своровала блестящее украшение со стола.'"
   ]
  },
  {
   "cell_type": "code",
   "execution_count": 69,
   "metadata": {
    "colab": {
     "base_uri": "https://localhost:8080/"
    },
    "id": "WwF-XsjeI3eX",
    "outputId": "34e9f131-3af5-4a87-9a8c-aa51d6e076ae"
   },
   "outputs": [
    {
     "name": "stdout",
     "output_type": "stream",
     "text": [
      "{'analysis': [{'lex': 'сорок', 'wt': 0.8710292664, 'gr': 'NUM=(пр|дат|род|твор)'}], 'text': 'сорока'}\n",
      "{'analysis': [{'lex': 'сорока', 'wt': 0.1210970041, 'gr': 'S,жен,од=им,ед'}], 'text': 'Сорока'}\n"
     ]
    }
   ],
   "source": [
    "mystem_analyzer = Mystem() # инициализирую объект с дефолтными параметрами\n",
    "\n",
    "print(mystem_analyzer.analyze(homonym1)[-5])\n",
    "print(mystem_analyzer.analyze(homonym2)[0])"
   ]
  },
  {
   "cell_type": "code",
   "execution_count": 70,
   "metadata": {
    "colab": {
     "base_uri": "https://localhost:8080/"
    },
    "id": "t9jezRVlFmDo",
    "outputId": "e2224fd9-09e3-428e-fa6a-1af94dcb2ca8"
   },
   "outputs": [
    {
     "name": "stdout",
     "output_type": "stream",
     "text": [
      "{'За': 'за', 'время': 'время', 'обучения': 'обучение', 'я': 'я', 'прослушал': 'прослушать', 'больше': 'большой', 'сорока': 'сорок', 'курсов': 'курс', '.': '.'}\n"
     ]
    }
   ],
   "source": [
    "print(natasha_lemmatize(homonym1))"
   ]
  },
  {
   "cell_type": "code",
   "execution_count": 71,
   "metadata": {
    "colab": {
     "base_uri": "https://localhost:8080/"
    },
    "id": "SXjGBQPoI9gl",
    "outputId": "049fe8af-e0c5-499f-cc10-6d05b047a168"
   },
   "outputs": [
    {
     "name": "stdout",
     "output_type": "stream",
     "text": [
      "{'Сорока': 'сорок', 'своровала': 'своровать', 'блестящее': 'блестящий', 'украшение': 'украшение', 'со': 'с', 'стола': 'стол', '.': '.'}\n"
     ]
    }
   ],
   "source": [
    "print(natasha_lemmatize(homonym2))"
   ]
  },
  {
   "cell_type": "markdown",
   "metadata": {
    "id": "aP5qFnilLVSI"
   },
   "source": [
    "## Словарь, закон Ципфа и закон Хипса"
   ]
  },
  {
   "cell_type": "markdown",
   "metadata": {
    "id": "s1umtd3OLVSI"
   },
   "source": [
    "Закон Ципфа -- эмпирическая закономерность: если все слова корпуса текста упорядочить по убыванию частоты их использования, то частота n-го слова в таком списке окажется приблизительно обратно пропорциональной его порядковому номеру n. Иными словами, частотность слов убывает очень быстро."
   ]
  },
  {
   "cell_type": "code",
   "execution_count": 2,
   "metadata": {
    "id": "lY0cWJ7eLVSJ"
   },
   "outputs": [],
   "source": [
    "from collections import Counter\n",
    "import nltk"
   ]
  },
  {
   "cell_type": "code",
   "execution_count": 7,
   "metadata": {
    "colab": {
     "base_uri": "https://localhost:8080/"
    },
    "id": "vIjqSVjpLVSL",
    "outputId": "a75ec748-ab21-4bd0-cd41-5a9fa8362b22"
   },
   "outputs": [
    {
     "name": "stdout",
     "output_type": "stream",
     "text": [
      "2870536\n"
     ]
    },
    {
     "data": {
      "text/plain": [
       "['first_timee', 'хоть', 'я', 'и', 'школота', 'но', 'поверь', 'у', 'нас', 'то']"
      ]
     },
     "execution_count": 7,
     "metadata": {},
     "output_type": "execute_result"
    }
   ],
   "source": [
    "corpus = [token for tweet in df.text for token in nltk.word_tokenize(tweet) if token not in punctuation]\n",
    "print(len(corpus))\n",
    "corpus[:10]"
   ]
  },
  {
   "cell_type": "code",
   "execution_count": 8,
   "metadata": {
    "id": "_oWC7NpkLVSO",
    "outputId": "965b9fbd-6328-4c13-f20f-cd3714d1adb4"
   },
   "outputs": [
    {
     "data": {
      "text/plain": [
       "[('не', 69472),\n",
       " ('и', 55166),\n",
       " ('в', 52902),\n",
       " ('я', 52818),\n",
       " ('RT', 38070),\n",
       " ('на', 35759),\n",
       " ('http', 32998),\n",
       " ('что', 31541),\n",
       " ('с', 27217),\n",
       " ('а', 26860)]"
      ]
     },
     "execution_count": 8,
     "metadata": {},
     "output_type": "execute_result"
    }
   ],
   "source": [
    "freq_dict = Counter(corpus)\n",
    "freq_dict_sorted= sorted(freq_dict.items(), key=lambda x: -x[1])\n",
    "list(freq_dict_sorted)[:10]"
   ]
  },
  {
   "cell_type": "code",
   "execution_count": 9,
   "metadata": {
    "id": "FrPkce0SLVSQ",
    "outputId": "d2ab5675-433a-480a-90ee-fa5dd9890922"
   },
   "outputs": [
    {
     "data": {
      "image/png": "[encoded data removed]",
      "text/plain": [
       "<Figure size 432x288 with 1 Axes>"
      ]
     },
     "metadata": {
      "needs_background": "light"
     },
     "output_type": "display_data"
    }
   ],
   "source": [
    "import matplotlib.pyplot as plt\n",
    "%matplotlib inline\n",
    "first_100_freqs = [freq for word, freq in freq_dict_sorted[:100]]\n",
    "plt.plot(first_100_freqs)\n",
    "plt.show()"
   ]
  },
  {
   "cell_type": "markdown",
   "metadata": {
    "id": "i_N5V_K-LVSU"
   },
   "source": [
    "Закон Хипса -- обратная сторона закона Ципфа. Он описывает, что чем больше корпус, тем меньше новых слов добавляется с добавлением новых текстов. В какой-то момент корпус насыщается."
   ]
  },
  {
   "cell_type": "markdown",
   "metadata": {
    "id": "dw0GieJSMU-O"
   },
   "source": [
    "## Задание 1.\n",
    "\n",
    "**Задание**: обучите три классификатора: \n",
    "\n",
    "1) на токенах с высокой частотой \n",
    "\n",
    "2) на токенах со средней частотой \n",
    "\n",
    "3) на токенах с низкой частотой\n",
    "\n",
    "Сравните полученные результаты, оцените какие токены наиболее важные для классификации."
   ]
  },
  {
   "cell_type": "markdown",
   "metadata": {},
   "source": [
    "#### Решение:"
   ]
  },
  {
   "cell_type": "markdown",
   "metadata": {},
   "source": [
    "Разобьем наши данные на 3 равные части с высокой частотой встречания, со средней частотой встречания и с нижней частотой встречания "
   ]
  },
  {
   "cell_type": "code",
   "execution_count": 10,
   "metadata": {
    "id": "QUQ6kAgPMqNn"
   },
   "outputs": [],
   "source": [
    "one_of_tree_part = round(len(corpus) / 3)\n",
    "higth_freq = []\n",
    "midle_freq = []\n",
    "low_freq = []\n",
    "\n",
    "current_sum_freq, i, all_lists = 0, 0, [higth_freq, midle_freq, low_freq]\n",
    "current_list = 0\n",
    "while True:\n",
    "    all_lists[current_list].append(freq_dict_sorted[i])\n",
    "    current_sum_freq += freq_dict_sorted[i][1]\n",
    "    if current_sum_freq >= one_of_tree_part:\n",
    "        current_list += 1\n",
    "        current_sum_freq = 0\n",
    "        if current_list == len(all_lists)-1:\n",
    "            all_lists[-1].extend(freq_dict_sorted[i:])\n",
    "            break\n",
    "    i += 1"
   ]
  },
  {
   "cell_type": "code",
   "execution_count": 11,
   "metadata": {},
   "outputs": [
    {
     "data": {
      "image/png": "[encoded data removed]",
      "text/plain": [
       "<Figure size 432x288 with 1 Axes>"
      ]
     },
     "metadata": {
      "needs_background": "light"
     },
     "output_type": "display_data"
    },
    {
     "data": {
      "image/png": "[encoded data removed]",
      "text/plain": [
       "<Figure size 432x288 with 1 Axes>"
      ]
     },
     "metadata": {
      "needs_background": "light"
     },
     "output_type": "display_data"
    },
    {
     "data": {
      "image/png": "[encoded data removed]",
      "text/plain": [
       "<Figure size 432x288 with 1 Axes>"
      ]
     },
     "metadata": {
      "needs_background": "light"
     },
     "output_type": "display_data"
    }
   ],
   "source": [
    "colors = ['red', 'orange', 'green']\n",
    "titles = ['Hight frequency', 'Middle frequency', 'Low frequency']\n",
    "for i, current_freq_list in enumerate(all_lists):\n",
    "    plt.plot(sorted(dict(current_freq_list).values(), reverse=True), c=colors[i])\n",
    "    plt.title(titles[i])\n",
    "    plt.show()"
   ]
  },
  {
   "cell_type": "markdown",
   "metadata": {},
   "source": [
    "В качестве классификатора выберем линейный классификатор:"
   ]
  },
  {
   "cell_type": "code",
   "execution_count": 60,
   "metadata": {},
   "outputs": [
    {
     "name": "stdout",
     "output_type": "stream",
     "text": [
      "Hight frequency:\n",
      "              precision    recall  f1-score   support\n",
      "\n",
      "    negative       0.73      0.63      0.68     32649\n",
      "    positive       0.58      0.69      0.63     24060\n",
      "\n",
      "    accuracy                           0.65     56709\n",
      "   macro avg       0.65      0.66      0.65     56709\n",
      "weighted avg       0.67      0.65      0.66     56709\n",
      "\n",
      "Middle frequency:\n",
      "              precision    recall  f1-score   support\n",
      "\n",
      "    negative       0.65      0.72      0.68     25008\n",
      "    positive       0.76      0.69      0.72     31701\n",
      "\n",
      "    accuracy                           0.70     56709\n",
      "   macro avg       0.70      0.70      0.70     56709\n",
      "weighted avg       0.71      0.70      0.70     56709\n",
      "\n",
      "Low frequency:\n",
      "              precision    recall  f1-score   support\n",
      "\n",
      "    negative       0.74      0.66      0.69     31250\n",
      "    positive       0.63      0.71      0.67     25459\n",
      "\n",
      "    accuracy                           0.68     56709\n",
      "   macro avg       0.68      0.68      0.68     56709\n",
      "weighted avg       0.69      0.68      0.68     56709\n",
      "\n"
     ]
    }
   ],
   "source": [
    "for i, current_freq_list in enumerate(all_lists):\n",
    "    vec = CountVectorizer(ngram_range=(1, 1), tokenizer=nltk.word_tokenize, \n",
    "                          max_df=max((dict(current_freq_list).values())), \n",
    "                          min_df=min(dict(current_freq_list).values()))\n",
    "\n",
    "    bow = vec.fit_transform(x_train)\n",
    "    clf = LogisticRegression(random_state=42, solver='lbfgs', max_iter=200)\n",
    "    clf.fit(bow, y_train)\n",
    "    pred = clf.predict(vec.transform(x_test))\n",
    "    print(titles[i] + ':')\n",
    "    print(classification_report(pred, y_test))"
   ]
  },
  {
   "cell_type": "code",
   "execution_count": 59,
   "metadata": {},
   "outputs": [
    {
     "data": {
      "text/plain": [
       "[('не', 69472),\n",
       " ('и', 55166),\n",
       " ('в', 52902),\n",
       " ('я', 52818),\n",
       " ('RT', 38070),\n",
       " ('на', 35759),\n",
       " ('http', 32998),\n",
       " ('что', 31541),\n",
       " ('с', 27217),\n",
       " ('а', 26860),\n",
       " ('...', 22363),\n",
       " ('меня', 20656),\n",
       " ('у', 18928),\n",
       " ('как', 18279),\n",
       " ('так', 16839),\n",
       " ('D', 16575),\n",
       " ('это', 16542),\n",
       " ('мне', 16337),\n",
       " ('все', 14763),\n",
       " ('ты', 13412),\n",
       " ('но', 12949),\n",
       " (\"''\", 12471),\n",
       " ('Я', 12315),\n",
       " ('``', 11467),\n",
       " ('то', 11432),\n",
       " ('..', 11392),\n",
       " ('по', 11294),\n",
       " ('уже', 10180),\n",
       " ('за', 10038),\n",
       " ('же', 9628),\n",
       " ('ну', 8742),\n",
       " ('А', 8635),\n",
       " ('только', 8065),\n",
       " ('бы', 8041),\n",
       " ('еще', 7829),\n",
       " ('да', 7413),\n",
       " ('вот', 7244),\n",
       " ('тебя', 7161),\n",
       " ('нет', 7078),\n",
       " ('когда', 6676),\n",
       " ('очень', 6436),\n",
       " ('сегодня', 6377),\n",
       " ('будет', 6368),\n",
       " ('к', 6357),\n",
       " ('день', 6332),\n",
       " ('хочу', 6137),\n",
       " ('он', 6064),\n",
       " ('просто', 6052),\n",
       " ('от', 5654),\n",
       " ('было', 5484),\n",
       " ('тебе', 5436),\n",
       " ('мы', 5414),\n",
       " ('из', 5406),\n",
       " ('И', 5308),\n",
       " ('тоже', 5142),\n",
       " ('—', 5063),\n",
       " ('до', 4749),\n",
       " ('надо', 4731),\n",
       " ('там', 4723),\n",
       " ('даже', 4683),\n",
       " ('его', 4655),\n",
       " ('теперь', 4494),\n",
       " ('есть', 4464),\n",
       " ('вообще', 4442),\n",
       " ('если', 4319),\n",
       " ('для', 4192),\n",
       " ('о', 4159),\n",
       " ('нас', 4056),\n",
       " ('В', 4051),\n",
       " ('завтра', 4049),\n",
       " ('могу', 3971),\n",
       " ('она', 3960),\n",
       " ('всё', 3855),\n",
       " ('Не', 3847)]"
      ]
     },
     "execution_count": 59,
     "metadata": {},
     "output_type": "execute_result"
    }
   ],
   "source": [
    "higth_freq"
   ]
  },
  {
   "cell_type": "markdown",
   "metadata": {},
   "source": [
    "**ВЫВОДЫ**: \n",
    "\n",
    "Наиболее выжными словами для определения семантки твита, являются слова со средней и низкой частотой употреблия. И действительно, в часто всречаемые слова входят таким слова, такие части речи, как союзы, предлоги, слова связки и т.д., которые по сути не несут никакого смысла для задачи определения тональности."
   ]
  },
  {
   "cell_type": "markdown",
   "metadata": {
    "id": "mV3fmzp-LVSU"
   },
   "source": [
    "## О важности эксплоративного анализа\n",
    "\n",
    "Но иногда пунктуация бывает и не шумом -- главное отталкиваться от задачи. Что будет если вообще не убирать пунктуацию?"
   ]
  },
  {
   "cell_type": "code",
   "execution_count": 2,
   "metadata": {},
   "outputs": [],
   "source": [
    "import nltk\n",
    "import pandas as pd\n",
    "from sklearn.feature_extraction.text import TfidfVectorizer\n",
    "from sklearn.linear_model import LogisticRegression\n",
    "from sklearn.model_selection import train_test_split\n",
    "from sklearn.metrics import classification_report\n",
    "\n",
    "# считываем данные и заполняем общий датасет\n",
    "positive = pd.read_csv('positive.csv', sep=';', usecols=[3], names=['text'])\n",
    "positive['label'] = ['positive'] * len(positive)\n",
    "negative = pd.read_csv('negative.csv', sep=';', usecols=[3], names=['text'])\n",
    "negative['label'] = ['negative'] * len(negative)\n",
    "df = positive.append(negative)\n",
    "\n",
    "x_train, x_test, y_train, y_test = train_test_split(df.text, df.label)"
   ]
  },
  {
   "cell_type": "code",
   "execution_count": 3,
   "metadata": {
    "id": "qjkMxK9VLVSV",
    "outputId": "dfea56d5-4d92-4862-9788-29c8c8db29ac"
   },
   "outputs": [
    {
     "name": "stdout",
     "output_type": "stream",
     "text": [
      "              precision    recall  f1-score   support\n",
      "\n",
      "    negative       1.00      1.00      1.00     28091\n",
      "    positive       1.00      1.00      1.00     28618\n",
      "\n",
      "    accuracy                           1.00     56709\n",
      "   macro avg       1.00      1.00      1.00     56709\n",
      "weighted avg       1.00      1.00      1.00     56709\n",
      "\n"
     ]
    }
   ],
   "source": [
    "vec = TfidfVectorizer(ngram_range=(1, 1), tokenizer=nltk.word_tokenize)\n",
    "bow = vec.fit_transform(x_train)\n",
    "clf = LogisticRegression(random_state=42)\n",
    "clf.fit(bow, y_train)\n",
    "pred = clf.predict(vec.transform(x_test))\n",
    "print(classification_report(pred, y_test))"
   ]
  },
  {
   "cell_type": "markdown",
   "metadata": {
    "id": "w2fRbUAvLVSX"
   },
   "source": [
    "Шок! Стоило оставить пунктуацию -- и все метрики равны 1. Как это получилось? Среди неё были очень значимые токены (как вы думаете, какие?). Найдите фичи с самыми большими коэффициэнтами:"
   ]
  },
  {
   "cell_type": "markdown",
   "metadata": {},
   "source": [
    "## Задание 2.\n",
    "\n",
    "найти фичи с наибольшей значимостью, и вывести их"
   ]
  },
  {
   "cell_type": "code",
   "execution_count": 17,
   "metadata": {},
   "outputs": [
    {
     "data": {
      "text/plain": [
       "[('(', -59.72519944921544),\n",
       " (')', 58.38688263739335),\n",
       " ('d', 26.841652456772724),\n",
       " ('|', -11.125803279765476),\n",
       " ('о_о', -10.95150965397659),\n",
       " ('dd', 10.462663238568366),\n",
       " ('^_^', 9.094123136354247),\n",
       " ('-/', -8.677209434119987),\n",
       " ('o_o', -8.599522609906066),\n",
       " ('ddd', 7.956102525075986),\n",
       " ('-d', 7.665356668712802),\n",
       " ('*', 7.247944057108238),\n",
       " (':', 5.799590933103087),\n",
       " ('cio_optimal', -5.3994318643258765),\n",
       " ('to_over_kill', -5.377539297889741),\n",
       " ('dddd', 4.685972435246835),\n",
       " ('do_or_die_xxx', -4.494404190557016),\n",
       " ('prisonero_o', -4.249806530170253),\n",
       " ('rt', -4.017994178794804),\n",
       " ('reno_oppa', -3.849864241626324),\n",
       " ('horanso_on', -3.3684981156493143),\n",
       " ('ddddd', 3.144783918330946),\n",
       " ('kota_oo_oo', -3.010869920876786),\n",
       " ('boo_ohoo', -2.93525287258348),\n",
       " ('_do_or_die__', -2.839593802440927),\n",
       " ('снаступающимтвиттерский', -2.6973943243244034),\n",
       " ('o_obnulyay', -2.5309949399077145),\n",
       " ('radio_of_moon', -2.472756411517806),\n",
       " ('lponomarenko_o', -2.244175243937088),\n",
       " ('mo_onmery', -2.235447344214921),\n",
       " ('do_or_pie_', -2.0285546262914647),\n",
       " ('plo_otnik', -2.0202591250574358),\n",
       " ('_ooo_ooo__', -1.9902297650326437),\n",
       " ('o_olshik', -1.9467772168449708),\n",
       " ('dddddd', 1.8901103068278478),\n",
       " ('july_to_october', -1.8900282390661383),\n",
       " ('trawko_o', -1.8537834939144593),\n",
       " ('не', -1.838187974957555),\n",
       " ('люблю', 1.7892112589778395),\n",
       " ('angelino_ochka', -1.7459755830752766),\n",
       " ('brianmolko_off', -1.6987180424441803),\n",
       " ('_', -1.6872183962891538),\n",
       " ('bondarenkoo_o', -1.6726214444356875),\n",
       " ('xoxo_oleenom', -1.5972404147079202),\n",
       " ('leto_on_mars', -1.5936668660409046),\n",
       " ('dho_okeaha_', -1.5645225179137097),\n",
       " ('little_bird_o_o', -1.5417636658300915),\n",
       " ('=^_^=', 1.523669940784273),\n",
       " ('спасибо', 1.5004745952883043),\n",
       " ('timetodo_or_die', -1.4850409163826848),\n",
       " ('х', 1.4693599549382468),\n",
       " ('...', -1.4335048122044223),\n",
       " ('mamo_oru', -1.4294003830584383),\n",
       " ('s_o_o_o_o_n', -1.4280676792108593),\n",
       " ('@', -1.4268654778967818),\n",
       " ('блин', -1.4193448406705136),\n",
       " ('imapotato_ouo', -1.4151687917840636),\n",
       " ('anto_onova', -1.3966299574218297),\n",
       " ('cheko_ov', -1.3905813472899602),\n",
       " ('%', 1.3625660967888302),\n",
       " ('normalno_o', -1.3615436636058122),\n",
       " ('oopso_o_o', -1.3524503500902034),\n",
       " ('sveta_o_o', -1.3515461324343752),\n",
       " ('ахахах', 1.3265937029399981),\n",
       " ('жаль', -1.3188559915147768),\n",
       " ('alekseevao_o', -1.3167793030110273),\n",
       " ('хочу', -1.3092826369250798),\n",
       " ('danko_oo', -1.2806437002278366),\n",
       " ('unicorno_o', -1.273070377167438),\n",
       " ('mariko_olesya', -1.2697665913596419),\n",
       " ('почему', -1.2643514698446916),\n",
       " ('o_ole4ko_o', -1.2592591348557598),\n",
       " ('ахах', 1.2461777410735588),\n",
       " ('panfilenko_olga', -1.238645670172733),\n",
       " ('okirilyuk', 1.2178379506700143),\n",
       " ('ненавижу', -1.2175425745382809),\n",
       " ('приятно', 1.212992637370315),\n",
       " ('ddddddd', 1.1952806295990734),\n",
       " ('рождения', 1.1812465099349927),\n",
       " ('blo_odred', -1.1463309064857505),\n",
       " ('_superhero_o', -1.142387427103739),\n",
       " ('жалко', -1.1377149137966756),\n",
       " ('nindo_o', -1.1126811942340402),\n",
       " ('предновогодниеобнимашки', -1.0974337731987793),\n",
       " ('do_or_pie__', -1.0964095943969916),\n",
       " ('sashenkao_o', -1.0926960100762642),\n",
       " ('нет', -1.0803647575678406),\n",
       " ('опять', -1.0263261397589984),\n",
       " ('anneo_official', -1.0084721957973668),\n",
       " ('o_oalinko_o', -1.0021177700461001),\n",
       " ('наступающим', -1.0008141214747681),\n",
       " ('плохо', -1.0000011369423374),\n",
       " ('но', -0.9945672614991783),\n",
       " ('gt', -0.9870140742331446),\n",
       " ('||', -0.982806076307413),\n",
       " ('amp', -0.9792348995951563),\n",
       " ('болит', -0.9712019497639721),\n",
       " ('всем', 0.9705098113116887),\n",
       " ('любимая', 0.9694612738270784),\n",
       " ('scoobydo_o', -0.9685909294208668),\n",
       " ('dtoropova', 0.9664812220625134),\n",
       " ('nebo_oben', -0.9554963774556009),\n",
       " ('dddddddd', 0.9521106926808937),\n",
       " ('0', -0.9488445605777518),\n",
       " ('varia_o_o', -0.9378305862768664),\n",
       " ('yasno_ok', -0.9248436228987785),\n",
       " ('eto_oxxxy', -0.923583905407535),\n",
       " ('обидно', -0.9233932785868892),\n",
       " ('скучаю', -0.9233254277622921),\n",
       " ('придется', -0.919557313452722),\n",
       " ('tako_o46', -0.917075443737591),\n",
       " ('o_olyao__o', -0.9133160803579924),\n",
       " ('могу', -0.9074788060777357),\n",
       " ('ахаха', 0.9042007455984067),\n",
       " ('momo_oo3', -0.9031584207402897),\n",
       " ('spok_o_o', -0.8863347647518981),\n",
       " ('lavrovalove', -0.8854861401815763),\n",
       " ('ужасно', -0.8843388237601302),\n",
       " ('sm', -0.8822012417670992),\n",
       " ('mr_jack_o_o', -0.8795531322277639),\n",
       " ('ro_olesya', -0.8728787307282102),\n",
       " ('тебе', 0.8676896626480048),\n",
       " ('мы', 0.8675080523723047),\n",
       " ('боюсь', -0.8674274518866868),\n",
       " ('обожаю', 0.8555317771266723),\n",
       " ('бля', -0.8540801419522441),\n",
       " ('bminfo_official', -0.8479911075683795),\n",
       " ('будешь', 0.8463380267003421),\n",
       " ('mihaylenko_o', -0.8257986928879533),\n",
       " ('вас', 0.8183637699094141),\n",
       " ('грустно', -0.8168690204875464),\n",
       " ('а', -0.8141373283492184),\n",
       " ('.', -0.8076386959340939),\n",
       " ('tao_oppa', -0.8074956831020716),\n",
       " ('happybirthdayjaredleto', -0.8052007985140516),\n",
       " ('-', -0.8043869346616678),\n",
       " ('holly_wo_od', -0.7982535271047313),\n",
       " ('__do_or_die__', -0.7977406720163455),\n",
       " ('do_or_die6', -0.7948336984275192),\n",
       " ('вы', 0.7914161374958748),\n",
       " ('доброе', 0.7848468787731124),\n",
       " ('dbro_o', -0.7836529184581935),\n",
       " (',', 0.783182023472667),\n",
       " ('margo_official_', -0.7813881911323245),\n",
       " ('зимнийтвит', -0.7776434057940375),\n",
       " ('ни', -0.7756140803290947),\n",
       " ('molko_od', -0.7745072773133914),\n",
       " ('orko_ori', -0.7659857746530635),\n",
       " ('katofeiko_o', -0.7651050308632104),\n",
       " ('nastyushkao_o', -0.7650611218302482),\n",
       " ('давай', 0.7641669747494354),\n",
       " ('если', 0.7640387320676879),\n",
       " ('o_oleto', -0.7634666736009065),\n",
       " ('_ko_ot_', -0.762297254435947),\n",
       " ('печально', -0.7615896362750311),\n",
       " ('po_odnomu_suki', -0.7577416274588387),\n",
       " ('снов', 0.7489577778835689),\n",
       " ('ахахахах', 0.7445615028904904),\n",
       " ('еб', -0.7442694297471055),\n",
       " ('черт', -0.7417775049337169),\n",
       " ('счастлива', 0.738670792523),\n",
       " ('хорошо', 0.738648696237825),\n",
       " ('люблюкогда', -0.7330884729978403),\n",
       " ('me_lo_ok', -0.7308193786576681),\n",
       " ('только', -0.7293493128370169),\n",
       " ('учить', -0.7274964909937294),\n",
       " ('badou_n', -0.7267051187947676),\n",
       " ('сожалению', -0.726319954070253),\n",
       " ('скажу', 0.7253311982068357),\n",
       " ('вангую', -0.7245213808571344),\n",
       " ('печаль', -0.7229965678893328),\n",
       " ('simonenko_os', -0.712954158028463),\n",
       " ('ddddddddddddd', 0.7120994826043855),\n",
       " ('jumbo_oo', -0.7092094482015898),\n",
       " ('свадьбу', -0.708574269377071),\n",
       " ('днем', 0.7078121943447163),\n",
       " ('d:3', 0.7050692176101467),\n",
       " ('боль', -0.7047194779272006),\n",
       " ('exadirectioners', -0.7018706524438625),\n",
       " ('больно', -0.6962034723436448),\n",
       " ('do_or_die_azaz', -0.687632304587987),\n",
       " ('..', -0.6856423781871005),\n",
       " ('эй', -0.6832429518018754),\n",
       " ('samo_obayaniye', -0.6819657799079805),\n",
       " ('two_other_ways', -0.6802178003028172),\n",
       " ('никто', -0.6756189394902034),\n",
       " ('моя', 0.6755658324426935),\n",
       " ('xd', 0.6739749694779725),\n",
       " ('нельзя', -0.6736964145128462),\n",
       " ('поздравляю', 0.6714380915703728),\n",
       " ('ты', 0.6708944672191464),\n",
       " ('ужас', -0.670365555059269),\n",
       " ('``', 0.6702016498232718),\n",
       " ('да', 0.6667317211514322),\n",
       " ('чувствую', -0.6666790101775553),\n",
       " ('sherlock_go_on', -0.6664479661646029),\n",
       " ('з', -0.6646068641262035),\n",
       " ('о/', -0.6532932311541225),\n",
       " ('http', -0.6515215217214524),\n",
       " ('remo_orcun', -0.6489669705908199),\n",
       " ('весело', 0.6471325439604403),\n",
       " ('отличный', 0.6466431531863919),\n",
       " ('ура', 0.6419310412532017),\n",
       " ('меня', -0.6414157937329541),\n",
       " ('kro_ol', -0.6366706579213874),\n",
       " ('спокойной', 0.6337180351844529),\n",
       " ('умер', -0.6294118055908401),\n",
       " ('из-за', -0.6273428315324362),\n",
       " ('рада', 0.6268082269318228),\n",
       " ('dddddddddd', 0.623452747482806),\n",
       " ('времени-шремени', -0.6221616553067114),\n",
       " ('d/', 0.6219321670391414),\n",
       " ('офигенный', 0.6215241844360802),\n",
       " ('аж', -0.6206596253838658),\n",
       " ('l_o_o_k_o_u_t', -0.6181032501356923),\n",
       " ('o_oshe', -0.617141001329045),\n",
       " ('неведомая', -0.6171384301870624),\n",
       " ('понравилось', 0.6164158050473115),\n",
       " ('день^_^', 0.6155119359856569),\n",
       " ('au', -0.6108303569224165),\n",
       " ('сновымгодомлюбимыйтвиттерский', -0.61024492734016),\n",
       " ('porsheo_o', -0.6078772612964336),\n",
       " ('sno_oze', -0.6066769209361659),\n",
       " ('вам', 0.6062009475406193),\n",
       " ('назовем', -0.6059621188388352),\n",
       " ('ржу', 0.6052668459659183),\n",
       " ('deco_org', -0.6052473440373037),\n",
       " ('katya_katyao_o', -0.6032526642674212),\n",
       " ('ная', -0.601466929102882),\n",
       " ('шерлока', -0.6007259323479089),\n",
       " ('сладких', 0.5992062612100779),\n",
       " ('ночи', 0.5964276372852386),\n",
       " ('do_or_pie', -0.5964009442247203),\n",
       " ('хорошая', 0.5961767279608295),\n",
       " ('гэж', -0.5957394919000569),\n",
       " ('хаха', 0.5936320986981279),\n",
       " ('ozozo_oz', -0.5915534206977586),\n",
       " ('nadushacold', -0.5914667371002024),\n",
       " ('желаю', 0.5877563177468598),\n",
       " ('блять', -0.5813959634338688),\n",
       " ('купить', -0.5811518460626368),\n",
       " ('ko_online', -0.5807613101836141),\n",
       " ('lilo_o_99', -0.5804737145058909),\n",
       " ('lt', 0.5789781904580454),\n",
       " ('хэх…', -0.5786116898841114),\n",
       " ('песни', 0.5777489410066914),\n",
       " ('…', -0.5770287443992022),\n",
       " (':d', 0.5764788072610072),\n",
       " ('dashkoo_o_o', -0.5711099008785943),\n",
       " ('ko_omaroff', -0.5660016078839758),\n",
       " ('?', -0.5632481472078944),\n",
       " ('хочупровестиновогоднююночьвместес', 0.5620465507836422),\n",
       " ('белый', -0.5603156442441436),\n",
       " ('телефона', -0.5601970286071052),\n",
       " ('скучно', -0.5597561849180509),\n",
       " ('jenya__o_o', -0.5582735127237958),\n",
       " ('особенно', 0.5576294581384853),\n",
       " ('fo_ogrodary', -0.5573679474518093),\n",
       " ('shilko_o', -0.5570916796539904),\n",
       " ('какой-то', -0.5551852755920617),\n",
       " ('эх', -0.5522731870728991),\n",
       " ('ощущение', -0.5511367518121832),\n",
       " ('работе', -0.551053958976569),\n",
       " ('/', 0.5502258720168867),\n",
       " ('ediny_marsy', -0.5487783108846309),\n",
       " ('echelon1844', -0.5464754941758676),\n",
       " ('ddddddddd', 0.5464442757485326),\n",
       " ('сергевизмом', -0.5451502298960076),\n",
       " ('нету', -0.544249623079732),\n",
       " ('новом', -0.5399480667932229),\n",
       " ('утро', 0.5395414900880087),\n",
       " ('temo4kao_o', -0.5381517642303107),\n",
       " ('можно', 0.5370069892222782),\n",
       " ('раз', 0.5333518488097857),\n",
       " ('ууу', -0.5331713664165864),\n",
       " ('капец', -0.5314160215566308),\n",
       " ('disco_ol', -0.5310640380979642),\n",
       " ('здорово', 0.5307335334562409),\n",
       " ('prekrasnoo_o', -0.5307157876135115),\n",
       " ('привет', 0.5305837405292136),\n",
       " ('что', -0.530489129253521),\n",
       " ('ваши', 0.525756267970128),\n",
       " ('||||', -0.521604402133073),\n",
       " ('prosto_oxuennaa', -0.5199067210923378),\n",
       " ('днём', 0.5161251913866773),\n",
       " ('crazy_sheep_o_o', -0.5152570809773348),\n",
       " ('stylinso_on', -0.5143312369729424),\n",
       " ('юм', -0.5138575051590056),\n",
       " ('будут', 0.5137399641964516),\n",
       " ('миня', -0.5128104844221799),\n",
       " ('dno_okeana_a3a3', -0.5123707002983566),\n",
       " ('sguschenka_o_o', -0.5099103242897283),\n",
       " ('мобильного', -0.5079930713760263),\n",
       " ('даже', -0.5077880198134945),\n",
       " ('....', -0.5066151290232233),\n",
       " ('ребятки', 0.5059663891015413),\n",
       " ('увы', -0.5059662541198745),\n",
       " ('счастье', 0.5051245101260008),\n",
       " ('jamesbond_o_o', -0.5048455797022011),\n",
       " ('ху', -0.5048397638808029),\n",
       " ('зачем', -0.5019837566788043),\n",
       " ('удачи', 0.5019431815543645),\n",
       " ('брове', -0.5011481364775436),\n",
       " ('kuharenko_o', -0.50026478470229),\n",
       " ('думаю', 0.5000827337002156),\n",
       " ('бесит', -0.4993837661735788),\n",
       " ('забавно', 0.4991700262079008),\n",
       " ('саша', 0.49895983331257493),\n",
       " ('xxx', -0.4976995351418234),\n",
       " ('никак', -0.4966988307757088),\n",
       " ('зато', 0.49646900609188355),\n",
       " ('maryashao_o', -0.49548552103313115),\n",
       " ('пару', 0.4953509197091163),\n",
       " ('о//', -0.4951299488625664),\n",
       " ('mango_one', -0.4948553219079221),\n",
       " ('follow', 0.4945249517513681),\n",
       " ('d.', 0.4923756938178258),\n",
       " ('нг', -0.4895016434557925),\n",
       " ('ff', 0.4882443895603669),\n",
       " ('margo_ormanji', -0.4880305088449955),\n",
       " ('чувство', -0.48606888857401703),\n",
       " ('есть', 0.48587023240734195),\n",
       " ('когда', -0.484670070103884),\n",
       " ('olobersyko_o', -0.4841120473615494),\n",
       " ('приходится', -0.4815202941371872),\n",
       " ('фу', -0.48146266969419993),\n",
       " ('твит', 0.4809297164601386),\n",
       " ('1', 0.4809123790012768),\n",
       " ('надеюсь', 0.48049132317772514),\n",
       " ('nefyo_odova', -0.4793175045532359),\n",
       " ('давно', 0.47931098261139127),\n",
       " ('сука', -0.4781300756567363),\n",
       " ('о', -0.4752790210535556),\n",
       " ('любимой', 0.4751206332795478),\n",
       " ('leaving_to_omsk', -0.47462577066394196),\n",
       " ('-а', 0.47213074963714863),\n",
       " ('i', 0.4717902040336403),\n",
       " ('мило', 0.4708206092538347),\n",
       " ('интересно', 0.4706553757676786),\n",
       " ('playclawo_o', -0.4696641903250142),\n",
       " ('каникулы', -0.4695413534265301),\n",
       " ('seo_optimizator', -0.46879590864119536),\n",
       " ('dя', 0.46833871548252815),\n",
       " ('сочувствую', -0.4682956214655001),\n",
       " ('ложился', -0.46731771097272984),\n",
       " ('ть', -0.4671392959980579),\n",
       " ('самые', 0.4658746910913456),\n",
       " ('скучать', -0.4648932692115311),\n",
       " ('заболела', -0.4642792167020595),\n",
       " ('епааать', -0.4633655976403151),\n",
       " ('потеряла', -0.46307564296782017),\n",
       " ('круто', 0.46305934555914174),\n",
       " ('гугл', -0.46207003250212214),\n",
       " ('fillip_ina', -0.46178439977589447),\n",
       " ('kamilkoo_o', -0.460875833832736),\n",
       " ('мошенник', -0.45918810628926043),\n",
       " ('главное', 0.4589852388126451),\n",
       " ('dreamerko_o', -0.457776220259804),\n",
       " ('dddddddddddd', 0.4557144360037704),\n",
       " ('rao_offshore', -0.4555021720622453),\n",
       " ('везде', -0.45473777487787537),\n",
       " ('rina_rainier', -0.45464111715098976),\n",
       " ('против', 0.45198657451310825),\n",
       " ('davcho_o', -0.45145056779870674),\n",
       " ('ма', -0.45054774835790046),\n",
       " ('неделю', -0.44964096354539035),\n",
       " ('хватит', 0.4492268015574701),\n",
       " ('позитива', 0.4484421663074545),\n",
       " ('часов', -0.4483336220108117),\n",
       " ('//t.co/z9kxrp1tbz', -0.44796091199029914),\n",
       " ('o_obnulyay_____', -0.44796091199029914),\n",
       " ('ибо', -0.447299815119693),\n",
       " ('dа', 0.44714436446110284),\n",
       " ('же', -0.44529320709555353),\n",
       " ('новым', -0.44510355490559705),\n",
       " (':33', -0.44437753745741165),\n",
       " ('что-то', -0.4439940382230976),\n",
       " ('голова', -0.443609522571626),\n",
       " ('whitemo_onlight', -0.4400207210268204),\n",
       " ('кстати', 0.438772043434094),\n",
       " ('taylothmom', -0.43813488032795733),\n",
       " ('последнее', -0.43766828994097906),\n",
       " ('no_ocenila', -0.43734618200226716),\n",
       " ('похоже', -0.4373203849334299),\n",
       " ('рок', -0.4367666980480182),\n",
       " ('бегал', 0.43676074652020297),\n",
       " ('молодцы', 0.4358074951710572),\n",
       " ('походу', -0.4354981574485921),\n",
       " ('человек', 0.43502541428110036),\n",
       " ('году', -0.43464547417068805),\n",
       " ('заичка', -0.43441045053177874),\n",
       " ('серия', -0.4343507904970943),\n",
       " ('прекрасно', 0.43413827567312313),\n",
       " ('cho_ota', -0.4339082282197569),\n",
       " ('скажите', -0.43227124483974794),\n",
       " ('dвсё', 0.43167523050933226),\n",
       " ('sonya_o_o', -0.43152319425046765),\n",
       " ('жизньболь', -0.4303985037135445),\n",
       " ('mtvstars', -0.42827454174657237),\n",
       " ('aanechaev', -0.42745515451880445),\n",
       " ('барановский', -0.42597453709356403),\n",
       " ('большое', 0.42445591916721115),\n",
       " ('годом', -0.4244304060572259),\n",
       " ('супер', 0.4241804387138929),\n",
       " ('_mr_dean_', -0.4238064580535572),\n",
       " ('рыдаю', -0.4233913988047003),\n",
       " ('ахахха', 0.42269546068840147),\n",
       " ('//t.co/gstc55a1lx', -0.42143917742586595),\n",
       " ('вот', -0.4206455518409211),\n",
       " ('деньги', -0.41959715669625636),\n",
       " ('//t.co…', -0.41938192739521796),\n",
       " ('ночь', 0.41853892519075164),\n",
       " ('mickael_o_o', -0.4184463168974692),\n",
       " ('-_-', -0.41818707408156514),\n",
       " ('делали', 0.4172196175614958),\n",
       " ('сейчас', -0.4168671407793138),\n",
       " ('твиттере', 0.41641518005476075),\n",
       " ('veruno_o', -0.4159603497049964),\n",
       " ('littlefrankie26', 0.4159201837336146),\n",
       " ('кажется', -0.4150611718017229),\n",
       " ('ktoto_o', -0.4146643024354223),\n",
       " ('прикольно', 0.4136011789094347),\n",
       " ('наконец', 0.4135953008171759),\n",
       " ('paayneee', -0.41284323738645134),\n",
       " ('|||||||||||', -0.41270120089466295),\n",
       " ('ходила', 0.4124135104181992),\n",
       " ('нахуй', -0.41194933614339396),\n",
       " ('последний', -0.4117389643233945),\n",
       " ('слушать', 0.41138675140984243),\n",
       " ('гет', -0.4110036034914231),\n",
       " ('обиделась', -0.41057469077109426),\n",
       " ('танцы', 0.4103572211878998),\n",
       " ('прям', 0.4102650063248406),\n",
       " ('milo_o_milo_o', -0.40998471587985963),\n",
       " ('конституции', 0.40996029764667336),\n",
       " ('тебя', 0.40981796943805476),\n",
       " ('indicator_paper', -0.4095965667699115),\n",
       " ('irina_o_o', -0.4095965667699115),\n",
       " ('крутой', 0.40834742841069704),\n",
       " ('б', -0.40770380077199386),\n",
       " ('летом', 0.40689248548425927),\n",
       " ('30stm', -0.40674397477688745),\n",
       " ('мой', 0.40665779654035217),\n",
       " ('про', 0.40630123876583635),\n",
       " ('yoo_oooo', -0.40581599541621655),\n",
       " ('полный', -0.4057872539101283),\n",
       " ('в.', -0.40565656866939526),\n",
       " ('своём', 0.4037331777302077),\n",
       " ('забрала', -0.4025349156902369),\n",
       " ('лох', -0.40248158189467437),\n",
       " ('дела', -0.40236855161249735),\n",
       " ('придётся', -0.40122417427172424),\n",
       " ('хватает', -0.40120467176255603),\n",
       " ('bmunkhbat', -0.40117958500081985),\n",
       " ('ishenko_oksanka', -0.4009955183223958),\n",
       " ('мало', -0.3999049533569212),\n",
       " ('благодаря', 0.39939099998683886),\n",
       " ('пошла', 0.39913033389917507),\n",
       " ('откуда', -0.3973087637468982),\n",
       " ('каникул', -0.3963527028340329),\n",
       " ('наконец-то', 0.39603699848132207),\n",
       " ('милая', 0.3957358112741511),\n",
       " ('//t.co/yxkqedydw8', -0.39570456196325504),\n",
       " ('вышел', 0.3956220910986362),\n",
       " ('тобой', 0.39370091804487495),\n",
       " ('сходили', 0.3935014564759198),\n",
       " ('офигенны', 0.3934640931702305),\n",
       " ('как-то', -0.39340588105435487),\n",
       " ('astral69_', -0.3933834045609731),\n",
       " ('elliot_o_o', -0.39333360067752826),\n",
       " ('скачать', -0.3931592192245904),\n",
       " ('пишите', 0.3930016048172669),\n",
       " ('господи', -0.392393483192317),\n",
       " ('говно', -0.392332577587291),\n",
       " ('мне', -0.39225700546693354),\n",
       " ('будь', 0.39200311227899676),\n",
       " ('loooooooo_ool', -0.3919175986302579),\n",
       " ('азаз', 0.3918626065353687),\n",
       " ('эта', -0.39175115750005884),\n",
       " ('ракал', 0.3913598005976062),\n",
       " ('ретвит', 0.39134501222631385),\n",
       " ('сделать', -0.3912617884256419),\n",
       " ('|||', -0.3906291453003657),\n",
       " ('karishko_o', -0.3903767521987737),\n",
       " ('весь', -0.3901973794057881),\n",
       " ('//t.co/kd6k0jcexh', 0.3900809011723611),\n",
       " ('scarred_dreams', 0.3900809011723611),\n",
       " ('mr_kivi_3', -0.38961817631500606),\n",
       " ('o_omilя', -0.38961817631500606),\n",
       " ('убрали', -0.38954435954855615),\n",
       " ('новости', -0.38928024534026606),\n",
       " ('сложно', -0.38905793821035933),\n",
       " ('сессия', -0.3890387183773627),\n",
       " ('домооой', -0.3888911281671354),\n",
       " ('sviridenko_ok', -0.38854295912429815),\n",
       " ('lero_ocka', -0.38829069211950873),\n",
       " ('устала', -0.38819461521854076),\n",
       " ('новые', 0.3879685716573416),\n",
       " ('тёплое', -0.3875961895094037),\n",
       " ('людях', -0.38720246335985786),\n",
       " ('уезжает', -0.3871879240865003),\n",
       " ('выветреное', -0.3867516551909258),\n",
       " ('вымоченное', -0.3867516551909258),\n",
       " ('пиво_о', -0.3867516551909258),\n",
       " ('слизывать', -0.3867516551909258),\n",
       " ('какая', -0.3848592968282266),\n",
       " ('часа', -0.38443274225769997),\n",
       " ('nasttusho_o', -0.384067916236735),\n",
       " ('ходу', -0.38364766962923963),\n",
       " ('нормально', 0.3834973273469425),\n",
       " ('идем', 0.3834251338826031),\n",
       " ('интернета', -0.3834122072261458),\n",
       " ('gorshkova11', -0.3829323874084081),\n",
       " ('вырежи', -0.3829323874084081),\n",
       " ('приклей', -0.3829323874084081),\n",
       " ('kyo_oppa', -0.3824469740480549),\n",
       " ('найл', -0.38186895156684547),\n",
       " ('стало', -0.3817210060047376),\n",
       " ('помогите', -0.3811200990604036),\n",
       " ('po_olina', -0.38109227017693115),\n",
       " ('зз', -0.3810028541240975),\n",
       " ('ms_slavamira', -0.3809875172864031),\n",
       " ('^3^', -0.38085477258625144),\n",
       " ('записать', -0.3805781755701714),\n",
       " ('кошмар', -0.38032892035054),\n",
       " ('желание', 0.3801077523384091),\n",
       " ('anjuuwa', 0.37893626554626686),\n",
       " ('michael_o_o', -0.3787563526919733),\n",
       " ('идти', -0.3784044231108432),\n",
       " ('читаем', 0.37802921847841997),\n",
       " ('его', -0.37772672344668745),\n",
       " ('anieverthen', 0.37749412307319397),\n",
       " ('ахахаха', 0.37710632109225106),\n",
       " ('yoooooooo_ooooo', -0.3754708071827371),\n",
       " ('тошнит', -0.3744256598317922),\n",
       " ('тряпки', -0.37441726181710255),\n",
       " ('хочет', -0.37421266917294393),\n",
       " ('им', 0.3741036225108887),\n",
       " ('говорю', 0.3731344502150908),\n",
       " ('делать', -0.3729758116053958),\n",
       " ('сильно', -0.37282011805237397),\n",
       " ('одиноко', -0.3726855385594407),\n",
       " ('do_or_pie666', -0.3719670662459276),\n",
       " ('ретвитов', 0.37176623851373936),\n",
       " ('вместе', 0.3714255903442391),\n",
       " ('тот', 0.3713196805791209),\n",
       " ('вполне', 0.37123524555620635),\n",
       " ('nasty22a', 0.37060687083116794),\n",
       " ('пачти', -0.37000893189775746),\n",
       " ('интернет', -0.3695472928459594),\n",
       " ('выходные', 0.36934659342745235),\n",
       " ('пожалуйста', -0.36931251705344886),\n",
       " ('снег', 0.36878060408470076),\n",
       " ('оу', -0.3683559558054701),\n",
       " ('решили', 0.3676756907423807),\n",
       " ('//t.co/m0bdh4lkmg', -0.36754080290718044),\n",
       " ('может', -0.36598031208549836),\n",
       " ('луи', -0.3656806831497058),\n",
       " ('__', -0.36532488423214615),\n",
       " ('prokopchenko_o', -0.36521058501243553),\n",
       " ('lovastuka', -0.3648176365537128),\n",
       " ('ржать', 0.3646891483249188),\n",
       " ('декабря', 0.3631395413954712),\n",
       " ('найду', 0.36292709454337596),\n",
       " ('nastia_tw', 0.36248567105600527),\n",
       " ('ха', 0.3623809047086419),\n",
       " ('здоровья', 0.36206643575737546),\n",
       " ('начал', -0.36184583749620663),\n",
       " ('новогоднего', -0.3618434476955607),\n",
       " ('адрес', 0.36100570366522855),\n",
       " ('провести', 0.3608278862003881),\n",
       " ('неожиданно', 0.36075931751725215),\n",
       " ('вставать', -0.3606982665126745),\n",
       " ('мира', 0.36002260389919455),\n",
       " ('сон', -0.360007879616073),\n",
       " ('талисман', 0.359538809984439),\n",
       " ('вечер', 0.35945013597025827),\n",
       " ('спасаешь', -0.35917872844109405),\n",
       " ('неужели', -0.35893144646661934),\n",
       " ('газетки', -0.35886754631465584),\n",
       " ('//t.co/ymzt6evxku', -0.3586902739266144),\n",
       " ('лишнее.просто', -0.3586902739266144),\n",
       " ('рожден', -0.3586902739266144),\n",
       " ('интересный', 0.35858265819543395),\n",
       " ('leno_ok1998', -0.35741056017314177),\n",
       " ('и', 0.35733136908908864),\n",
       " ('s', -0.3573165957965359),\n",
       " ('эти', -0.3568148965245452),\n",
       " ('q', -0.35650456258954616),\n",
       " ('egoyannarine', 0.35630336622634373),\n",
       " ('дорогая', 0.3562738461473229),\n",
       " ('//t.co/olwswfcmen', -0.3555116679198526),\n",
       " ('кешанасосала', -0.3555116679198526),\n",
       " ('кешанашагордость', -0.3555116679198526),\n",
       " ('кешаумри', -0.3555116679198526),\n",
       " ('эшелонумри', -0.3555116679198526),\n",
       " ('начну', 0.3553316566888845),\n",
       " ('ня', -0.35515410524179053),\n",
       " ('жизнь', -0.3550750172554932),\n",
       " ('ебанат', -0.3549783700284687),\n",
       " ('хочешь', 0.3543565704451048),\n",
       " ('пипец', -0.3540970115887053),\n",
       " ('боже', -0.3540443049077547),\n",
       " ('//…', -0.3540325876149451),\n",
       " ('каролина', -0.3528119542440821),\n",
       " ('коралина', -0.3528119542440821),\n",
       " ('дорогой', 0.3526122824414739),\n",
       " ('bezzubikovao_o', -0.3521893785827484),\n",
       " ('хотел', -0.3520414706132073),\n",
       " ('года', -0.35185905071781637),\n",
       " ('красиво', 0.3508153118207753),\n",
       " ('драчка', -0.3506706871329225),\n",
       " ('фанатики', -0.3506344040244472),\n",
       " ('hiroto_official', -0.3506045738221759),\n",
       " ('miallhodan', -0.3503437596175901),\n",
       " ('месяца', -0.35029376355490055),\n",
       " ('namiko_o', -0.3499007418183021),\n",
       " ('цвет', 0.3496280902615665),\n",
       " ('брат', -0.3495579278013422),\n",
       " ('мимими', 0.34945447938686647),\n",
       " ('поржали', 0.3492543629409667),\n",
       " ('встать', -0.3490284250197751),\n",
       " ('blackmill', 0.3485993370511383),\n",
       " ('райская', 0.3485993370511383),\n",
       " ('мур', 0.34843931052036925),\n",
       " ('такой', 0.3479113970104177),\n",
       " ('//t.co/kdzkfixfwh', -0.34720626150221173),\n",
       " ('достали', -0.34622440209331057),\n",
       " ('гарри', -0.34614315734378026),\n",
       " ('//t.co/fupqqwtkpg', -0.34581459579449214),\n",
       " ('роиссе', -0.34581459579449214),\n",
       " ('воооу', -0.34578383026031895),\n",
       " ('ей', 0.3455741355709503),\n",
       " ('т_т', -0.3450496565664854),\n",
       " ('никогда', -0.3446974657350692),\n",
       " ('оно', -0.3445688172333746),\n",
       " ('пока', 0.34419274957177726),\n",
       " ('doktor_zlo_oo', -0.3428877253922984),\n",
       " ('berg0612', -0.3420169839416663),\n",
       " ('угарали', 0.3419502654514507),\n",
       " ('честь', 0.3418564264183342),\n",
       " ('смотрю', 0.34178129176920335),\n",
       " ('уходи', -0.341780659135798),\n",
       " ('шерлок', -0.3415704119044761),\n",
       " ('книги', 0.3414581979370496),\n",
       " ('пишу', 0.34118991789415515),\n",
       " ('//t.co/uxodhg7qn9', -0.3408167414123955),\n",
       " ('первом', -0.34073584132928547),\n",
       " ('evil_devilo_o', -0.34021892043230195),\n",
       " ('oliv_from_mars', -0.34021892043230195),\n",
       " ('замечательный', 0.34015042679481733),\n",
       " ('доброго', 0.34011989640820256),\n",
       " ('доделать', -0.33981449620120113),\n",
       " ('//t.co/dxbdkfuezv', -0.33962210779510044),\n",
       " ('права', -0.3392424663230565),\n",
       " ('dddddddddddddddddddddddddd', 0.33917582817166403),\n",
       " ('будем', 0.3389096196061202),\n",
       " ('единорогов', -0.3387636073619609),\n",
       " ('режу', -0.3387296862855811),\n",
       " ('ихихи', 0.3386595036780398),\n",
       " ('алгебре', -0.33853202705571434),\n",
       " ('dddа', 0.33844248436386143),\n",
       " ('стоит', 0.33796240342988687),\n",
       " ('//t.co/b1j8mbjkrx', -0.33788454825286024),\n",
       " ('сегодня', 0.337500915060391),\n",
       " ('блін', -0.3372695774799474),\n",
       " ('печеньки^_^', 0.3369966355256781),\n",
       " ('превосходен', -0.33676596100537487),\n",
       " ('коенмилашка', 0.33673923306675735),\n",
       " ('дети', 0.3367181121932906),\n",
       " ('logino_o', -0.33666206191360853),\n",
       " ('нее', 0.33660575135534804),\n",
       " ('смотрим', 0.33651466658017637),\n",
       " ('saharo_ok', -0.33651177458873777),\n",
       " ('потеряно', -0.3362502139704069),\n",
       " ('dахах', 0.3361951261275101),\n",
       " ('открыть', -0.3361536782924651),\n",
       " ('вечно', -0.33557258799652884),\n",
       " ('встретимся', -0.3353735931978227),\n",
       " ('//t.co/rkcfah3o27', -0.33519522702834537),\n",
       " ('состояние', -0.3347140446514826),\n",
       " ('безумно', 0.3345310685850677),\n",
       " ('твои', 0.3344568543303272),\n",
       " ('прочтите', -0.3336358093980976),\n",
       " ('s_o_o_n_', -0.333260372810381),\n",
       " ('ivanandhispike', -0.3330465043719889),\n",
       " ('пап', -0.3329164748705696),\n",
       " ('первая', 0.33243408175308997),\n",
       " ('снегу', 0.3323189340820166),\n",
       " ('chashhixinnic', -0.33217414708811394),\n",
       " ('korelina1999', -0.33217414708811394),\n",
       " ('mikky_acorn', -0.33217414708811394),\n",
       " ('ddddddddddddddd', 0.3321322553161747),\n",
       " ('//t.co/3bdbwhwfwh', -0.332018388675275),\n",
       " ('sava_fox_x', 0.33160786150098853),\n",
       " ('страстнаяфолловля', -0.3312101122582139),\n",
       " ('минус', -0.33109288337156584),\n",
       " ('уж', -0.3305808029275308),\n",
       " ('ехать', -0.3303503670242113),\n",
       " ('слушаю', 0.3299283558500035),\n",
       " ('miishkao_o', -0.3298948041251884),\n",
       " ('5', -0.32964447330627566),\n",
       " ('marmenkovaa', -0.3294173981242731),\n",
       " ('черная', -0.3294121722848866),\n",
       " ('пошел', 0.32902257590325),\n",
       " ('нарешті', -0.32897140135681113),\n",
       " ('=', 0.3288338675026985),\n",
       " ('просто', 0.3284877272125867),\n",
       " ('ответ', -0.32837385074057956),\n",
       " ('февраля', -0.3278773841336551),\n",
       " ('dead_mo_onster', -0.32773432797325075),\n",
       " ('омо', -0.3276515545306758),\n",
       " ('каток', -0.32763187244664665),\n",
       " ('litvinenko_olga', -0.3273786229675886),\n",
       " ('dну', 0.32682210754750635),\n",
       " ('ddddddddddddddddd', 0.32628889267144745),\n",
       " ('девушки', 0.3261339291349286),\n",
       " ('exabeliebers', -0.3259389492983112),\n",
       " ('каналам', -0.3256033214213859),\n",
       " ('до', -0.32530444599925346),\n",
       " ('самом', -0.3250166579724587),\n",
       " ('какую', 0.3250054353609467),\n",
       " ('заканчивается', -0.32494614764708385),\n",
       " ('rokudo_egoist', 0.3248758436392458),\n",
       " ('ktvsktvs', -0.32480504713557834),\n",
       " ('o_oerika___', -0.32442972793640096),\n",
       " ('получится', 0.3240908285736605),\n",
       " ('уместно', -0.3239759191792242),\n",
       " ('прости', -0.32374225246209726),\n",
       " ('классная', 0.3236131186731471),\n",
       " ('песню', 0.3234146903579238),\n",
       " ('хрень', -0.3233336360674772),\n",
       " ('понимаю', -0.3227710864671693),\n",
       " ('смешно', -0.32233387793265134),\n",
       " ('нашла', 0.3219967712981615),\n",
       " ('типа', 0.321922959249031),\n",
       " ('fuckingfairyt', -0.3217924132101375),\n",
       " ('вставило', -0.3217161282611037),\n",
       " ('_po_o', -0.3217100265985513),\n",
       " ('go_ofran', -0.32137832427479096),\n",
       " ('грустный', -0.3213306682299202),\n",
       " ('джинсы', -0.32103588273153294),\n",
       " ('кроме', -0.32084610853088996),\n",
       " ('чтобы', 0.3208011489823888),\n",
       " ('ночьшерлока', -0.3206837457408295),\n",
       " ('caйта', -0.32055861304189065),\n",
       " ('cрочно', -0.32055861304189065),\n",
       " ('koнтактe', -0.32055861304189065),\n",
       " ('зaйди', -0.32055861304189065),\n",
       " ('эшелон', -0.3202665859160104),\n",
       " ('оставайся', 0.32023599021843535),\n",
       " ('шучу', -0.32003433834154055),\n",
       " ('zebrao_o', -0.3199926454841504),\n",
       " ('#', 0.3196035540236512),\n",
       " ('fromo_otox_x', -0.31898129164611516),\n",
       " ('цветочки', -0.3186233455756885),\n",
       " ('кароч', -0.31845094789396544),\n",
       " ('уберу', 0.318165613562166),\n",
       " ('чмо', -0.3181291126442951),\n",
       " ('вечернийургант', 0.31765395717144546),\n",
       " ('ackles_collins', -0.3175948264642264),\n",
       " ('хуже', -0.31748754079500435),\n",
       " ('//t.co/wgzyxovvks', -0.31746501849668246),\n",
       " ('oscarwildpup', -0.31746501849668246),\n",
       " ('руки', -0.3173558989632707),\n",
       " ('—', 0.31712957614961557),\n",
       " ('gnoomik', 0.31689635447214426),\n",
       " ('футбол', 0.316813559040546),\n",
       " ('//t.co/nr3hrzozyx', -0.3167525816820042),\n",
       " ('dно', 0.31669652590449193),\n",
       " ('//t.co/ipnmz5lxzr', -0.3166533472003477),\n",
       " ('опытные', -0.3166533472003477),\n",
       " ('парубки', -0.3165998797148235),\n",
       " ('елками', -0.31657960360136644),\n",
       " ('11', -0.3164072197621624),\n",
       " ('довольно', 0.3160265528338347),\n",
       " ('левые', 0.315977788285498),\n",
       " ('lykiryanova', -0.3156942957804669),\n",
       " ('ужасный', -0.3155909279432239),\n",
       " ('дерьмо', -0.3155719645651062),\n",
       " ('там', 0.31507213666812756),\n",
       " ('нами', 0.3149062591938943),\n",
       " ('любви', 0.314896848028653),\n",
       " ('найти', -0.3148911699201865),\n",
       " ('большое:3', 0.31476354469189166),\n",
       " ('твоим', 0.3146609410688444),\n",
       " ('шутка', -0.3145922369451891),\n",
       " ('хорошего', 0.3144498112380282),\n",
       " ('коммунальная', -0.3143840005050899),\n",
       " ('hinmash', -0.31367070531616137),\n",
       " ('штырит', -0.3135856344068758),\n",
       " ('spirit', 0.3133528651968506),\n",
       " ('чо', -0.3133444024374622),\n",
       " ('maximkao_o', -0.31291747951090026),\n",
       " ('уже', -0.31289077152399286),\n",
       " ('дизайнеры', -0.31273152502997664),\n",
       " ('уфе', -0.31205795598513375),\n",
       " ('mehl15087', -0.3119453922384112),\n",
       " ('мозгу.о_о', -0.3118685397693369),\n",
       " ('читайтекешу', -0.31139282816710434),\n",
       " ('вк', -0.31123212779306875),\n",
       " ('школе', 0.3108746316304366),\n",
       " ('болеть', -0.3106218250825242),\n",
       " ('тэги', -0.3103890659940267),\n",
       " ('бл', -0.31038343653447353),\n",
       " ('medvedofrussia', -0.31029053196978473),\n",
       " ('замуж', 0.3099332733410702),\n",
       " ('лова', 0.30971555297122266),\n",
       " ('твиттерский', -0.309527477853297),\n",
       " ('//t.co/xjynnyins9', -0.30929722806502036),\n",
       " ('твиттерята', -0.30929722806502036),\n",
       " ('шикарный', 0.3092312274120986),\n",
       " ('путину', -0.3084987086804777),\n",
       " ('могла', -0.30841818653651676),\n",
       " ('общение', -0.30840545586046597),\n",
       " ('первым', 0.30825383811777224),\n",
       " ('зейн', -0.3080973053681253),\n",
       " ('облом', -0.3080284797844318),\n",
       " ('волгограде', -0.3079717021574994),\n",
       " ('об', -0.30728259296414445),\n",
       " ('b_liliya', 0.3070364755922994),\n",
       " ('возрост', -0.3069785296825706),\n",
       " ('2nosoroga', -0.30694172067482284),\n",
       " ('before10am', -0.30694172067482284),\n",
       " ('so_opaman', -0.30694172067482284),\n",
       " ('прекрасного', 0.30670671528972066),\n",
       " ('оба', -0.3065924283944484),\n",
       " ('огромный', -0.30649676505411666),\n",
       " ('ад', -0.3063908719842023),\n",
       " ('кеши', -0.3062408249083515),\n",
       " ('то', -0.3061275770557502),\n",
       " ('знаем', -0.3059052830535122),\n",
       " ('плакать', -0.3058999532913494),\n",
       " ('simplyshot', -0.3058222678437621),\n",
       " ('женщина', 0.30580947832614447),\n",
       " ('делаювсем', 0.30563003478469614),\n",
       " ('сииигну', 0.30563003478469614),\n",
       " ('взяла', -0.30533183540988224),\n",
       " ('радости', 0.3053007465328019),\n",
       " ('проспал', -0.3048721669421756),\n",
       " ('влюблен', -0.30485975445398505),\n",
       " ('ее', 0.3047551744369318),\n",
       " ('закон', -0.3046285635322356),\n",
       " ('robertbik', -0.30453167932716646),\n",
       " ('отличные', 0.3044242697206969),\n",
       " ('ждем', 0.30440275474447737),\n",
       " ('на', 0.3042887865601253),\n",
       " ('b', -0.30405119569235045),\n",
       " ('твоей', 0.3039202284522077),\n",
       " ('канеш', -0.30387838712410203),\n",
       " ('жуйк', 0.30364487669913875),\n",
       " ('hahao_ohaha', -0.30361578679316675),\n",
       " ('приснился', -0.30330653181519057),\n",
       " ('тут', 0.30322468412890374),\n",
       " ('довольствоваться', -0.30312592641923),\n",
       " ('компьютера', -0.30267067668018344),\n",
       " ('пишет', -0.30261974603909025),\n",
       " ('навсегда', -0.3025238689372781),\n",
       " ('улицу', -0.3021778034068173),\n",
       " ('лучей', 0.30191034422472024),\n",
       " ('вещать', 0.3017449797577707),\n",
       " ('охренительный', -0.30172017451998046),\n",
       " ('samo_obman', -0.3012718335784631),\n",
       " ('грузит', -0.3011135233726562),\n",
       " ('правильно', 0.3009577302518661),\n",
       " ('//t.co/3z54s8absp', -0.30072036247527767),\n",
       " ('было', -0.30064469611973704),\n",
       " ('otgono_o', -0.30047425895951446),\n",
       " ('слюни', -0.300416935688358),\n",
       " ('пидоры', 0.30031450892870487),\n",
       " ('само', 0.30020318606244395),\n",
       " ('приятность', 0.3001513959734528),\n",
       " ('организма', -0.30009983747979085),\n",
       " ('halcyon_o_o', -0.29983454376837776),\n",
       " ('стыд', -0.29970882245620545),\n",
       " ('echelonlovesfathers', 0.2989413506933283),\n",
       " (':3', -0.298815201156471),\n",
       " ('горло', -0.2988041495381002),\n",
       " ('прошу', -0.29853735788476476),\n",
       " ('vinnimuha', -0.2984930289187748),\n",
       " ('добавляете', -0.2984686889153943),\n",
       " ('погн…', -0.2984686889153943),\n",
       " ('некролог', -0.2984381681301659),\n",
       " ('pit_do_ob', -0.29838291343087653),\n",
       " ('закрыли', -0.2982617777179189),\n",
       " ('встала', -0.29821319716887934),\n",
       " ('ае', -0.2976001646322125),\n",
       " ('фигня', -0.29751845956007655),\n",
       " ('lcruniverso', -0.2974925398266512),\n",
       " ('ruggero_officia', -0.2974925398266512),\n",
       " ('~', -0.2972962335175478),\n",
       " ('музыкой', 0.29720332483730844),\n",
       " ('думала', -0.29688734741595085),\n",
       " ('bt', 0.2967999153830885),\n",
       " ('кто', 0.2966232417401913),\n",
       " ('alexandro_owl', -0.296454157163155),\n",
       " ('ходил', 0.2963787283436172),\n",
       " ('половина', -0.2962868429760079),\n",
       " ('тожи', 0.2962867533919016),\n",
       " ('//t.co/tgq1nhbei8', 0.2961936888113342),\n",
       " ('хозяюшка^_^', 0.2961936888113342),\n",
       " ('подобрав', -0.2959667392236402),\n",
       " ('обнимаааашкиии', -0.2957542669318381),\n",
       " ('11.12.13', 0.29568041273883583),\n",
       " ('президенту', -0.29554018511357666),\n",
       " ('ураааа', 0.2953953320095074),\n",
       " ('умерла', -0.29519175224697547),\n",
       " ('ай', -0.29515309433366366),\n",
       " ('ппц', -0.2950843816250281),\n",
       " ('точно', 0.29507978115299377),\n",
       " ('окай', -0.2949201680221249),\n",
       " ('тяжело', -0.294908732806406),\n",
       " ('johnny__ramone', 0.2948691216240984),\n",
       " ('маньяк', -0.29484119926898594),\n",
       " ('прежней', -0.29474620643313365),\n",
       " ('испортила', -0.2946047835537973),\n",
       " ('размер', -0.29450624787859114),\n",
       " ('новому', 0.29447666073432854),\n",
       " ('dany3682', -0.29435133358717464),\n",
       " ('ноги', -0.2942368269579176),\n",
       " ('рамка', -0.29406607409971286),\n",
       " ('elvina_zee', -0.2938610632961916),\n",
       " ('подписчики', -0.2934994283769661),\n",
       " ('для', 0.2934709465764803),\n",
       " ('elenasenko', -0.293458299467377),\n",
       " ('оттуда', 0.2934064442890062),\n",
       " ('ресурсами', -0.29325401693580555),\n",
       " ('получается', -0.29321262188525454),\n",
       " ('одной', -0.29307464065108024),\n",
       " ('--', 0.2930559468464389),\n",
       " ('daark69', -0.2930263787589262),\n",
       " ('.....', -0.29302529597728033),\n",
       " ('el_mario_che', -0.2928853287958557),\n",
       " ('фотку', 0.29286852738874813),\n",
       " ('л', -0.2927553907917079),\n",
       " ('морозик', 0.2925264658088668),\n",
       " ('бэйби', -0.29221769778013423),\n",
       " ('landi_love1d', 0.29217560620557287),\n",
       " ('знайте', -0.2916538594833006),\n",
       " ('qqfroz', -0.2916366430640298),\n",
       " ('donutrainbow', -0.29144332895037817),\n",
       " ('значит', 0.29119939313753684),\n",
       " ('например', -0.29106304726805987),\n",
       " ('классно', 0.2908343069572577),\n",
       " ('великолепный', -0.2908106723010335),\n",
       " ('души', 0.2903403331544697),\n",
       " ('афигеть', -0.29029937625518126),\n",
       " ('пиддес', -0.29024745553513603),\n",
       " ('annienicco', 0.2902001800364908),\n",
       " ('євромайдан', 0.28996441904897885),\n",
       " ('alex_grinchuk', -0.28988947742485205),\n",
       " ('температура', -0.2895932428814602),\n",
       " ('чем', 0.2893177059144459),\n",
       " ('счет', 0.28907088258277486),\n",
       " ('нужны', 0.28897663445396843),\n",
       " ('unicorn28601', -0.28868206019077186),\n",
       " ('неделя', -0.2882615859225788),\n",
       " ('сигну', -0.28803380637159587),\n",
       " ('космос', 0.2878094456212572),\n",
       " ('г', -0.28768817329174123),\n",
       " ('ме', -0.28759652299603516),\n",
       " ('решила', 0.2874364552711278),\n",
       " ('-я', 0.2874143209077609),\n",
       " ('купила', -0.2869178097726253),\n",
       " ('7', -0.2866819891052349),\n",
       " ('загадала', 0.28664495774744925),\n",
       " ('работа', -0.28663062707457215),\n",
       " ('cuhylifot', 0.286605292260568),\n",
       " ('планеты', 0.28645255782605916),\n",
       " ('рождеством', -0.2864332506220386),\n",
       " ('кому', 0.2861531142511434),\n",
       " ('необходимо', -0.28594928946131426),\n",
       " ('простыми', -0.28588033274231145),\n",
       " ('ахахахахах', 0.2855298045975854),\n",
       " ('ума', -0.2854687091348001),\n",
       " ('главный', -0.28545123551331447),\n",
       " ('no_one_edition', -0.28513653695811975),\n",
       " ('машину', -0.2849077291191452),\n",
       " ('которые', -0.28481173933132203),\n",
       " ('сначала', 0.2846569394858258),\n",
       " ('уехала', -0.28458368435120374),\n",
       " ('//t.co/ho5lozpyez', -0.2845747538312428),\n",
       " ('25', -0.28452807953033177),\n",
       " ('странная', -0.2841286294667843),\n",
       " ('миллион', 0.28407560934246595),\n",
       " ('сидела', 0.28389107386748974),\n",
       " ('стола', -0.2838761446248465),\n",
       " ('спальне', -0.28385165995900313),\n",
       " ('мучать', -0.2838440813780721),\n",
       " ('бол', -0.2836116123137162),\n",
       " ('заставляют', -0.283611129154768),\n",
       " ('пермяжка', -0.2836099538831499),\n",
       " ('бухая', -0.28357049581322236),\n",
       " ('смотри', 0.28348546576413614),\n",
       " ('вернуть', -0.28348083647754446),\n",
       " ('korean_banan', -0.2834587252535704),\n",
       " ('моей', 0.28343598118138424),\n",
       " ('внезапно', -0.2829345831524419),\n",
       " ('graanatik', -0.2826256141285145),\n",
       " ('знакомыo_o', -0.2824164194484352),\n",
       " ...]"
      ]
     },
     "execution_count": 17,
     "metadata": {},
     "output_type": "execute_result"
    }
   ],
   "source": [
    "sorted_vocabulary = sorted(vec.vocabulary_.items(), key=lambda x: x[1])\n",
    "word_weight_vocabulary = {word: clf.coef_[0][i] for i, (word, embd) in enumerate(sorted_vocabulary)}\n",
    "sorted(word_weight_vocabulary.items(), key=lambda x: abs(x[1]), reverse=True)"
   ]
  },
  {
   "cell_type": "markdown",
   "metadata": {
    "id": "8vtAyItvLVSb"
   },
   "source": [
    "Посмотрим, как один из супер-значительных токенов справится с классификацией безо всякого машинного обучения:"
   ]
  },
  {
   "cell_type": "code",
   "execution_count": 19,
   "metadata": {
    "id": "uqH07o-7LVSc",
    "outputId": "fad0a24a-98ee-4f84-8782-495548eb0fb4"
   },
   "outputs": [
    {
     "name": "stdout",
     "output_type": "stream",
     "text": [
      "              precision    recall  f1-score   support\n",
      "\n",
      "    negative       1.00      0.85      0.92     33089\n",
      "    positive       0.83      1.00      0.91     23620\n",
      "\n",
      "    accuracy                           0.91     56709\n",
      "   macro avg       0.91      0.93      0.91     56709\n",
      "weighted avg       0.93      0.91      0.92     56709\n",
      "\n"
     ]
    }
   ],
   "source": [
    "cool_token = ')'\n",
    "pred = ['positive' if cool_token in tweet else 'negative' for tweet in x_test]\n",
    "print(classification_report(pred, y_test))"
   ]
  },
  {
   "cell_type": "markdown",
   "metadata": {},
   "source": [
    "**ВЫВОДЫ**: \n",
    "\n",
    "Как и ожидалось, смайлики (скобки, двоеточие и т.д.) лучше всего описывают эмоциональный окрас твита"
   ]
  },
  {
   "cell_type": "markdown",
   "metadata": {
    "id": "H5THCOjMLVSg"
   },
   "source": [
    "## Символьные n-граммы\n",
    "\n",
    "Теперь в качестве фичей используем, например, униграммы символов:"
   ]
  },
  {
   "cell_type": "code",
   "execution_count": 21,
   "metadata": {},
   "outputs": [],
   "source": [
    "from sklearn.feature_extraction.text import CountVectorizer"
   ]
  },
  {
   "cell_type": "code",
   "execution_count": 24,
   "metadata": {
    "id": "AIUwDOabLVSh",
    "outputId": "54f129b1-994f-448e-e861-1912b4a21cdc"
   },
   "outputs": [
    {
     "name": "stderr",
     "output_type": "stream",
     "text": [
      "/Users/janeyaromich/miniconda3/envs/tensorflow/lib/python3.7/site-packages/sklearn/linear_model/_logistic.py:818: ConvergenceWarning: lbfgs failed to converge (status=1):\n",
      "STOP: TOTAL NO. of ITERATIONS REACHED LIMIT.\n",
      "\n",
      "Increase the number of iterations (max_iter) or scale the data as shown in:\n",
      "    https://scikit-learn.org/stable/modules/preprocessing.html\n",
      "Please also refer to the documentation for alternative solver options:\n",
      "    https://scikit-learn.org/stable/modules/linear_model.html#logistic-regression\n",
      "  extra_warning_msg=_LOGISTIC_SOLVER_CONVERGENCE_MSG,\n"
     ]
    },
    {
     "name": "stdout",
     "output_type": "stream",
     "text": [
      "              precision    recall  f1-score   support\n",
      "\n",
      "    negative       0.99      1.00      0.99     28119\n",
      "    positive       1.00      0.99      0.99     28590\n",
      "\n",
      "    accuracy                           0.99     56709\n",
      "   macro avg       0.99      0.99      0.99     56709\n",
      "weighted avg       0.99      0.99      0.99     56709\n",
      "\n"
     ]
    }
   ],
   "source": [
    "vec = CountVectorizer(analyzer='char', ngram_range=(1, 1))\n",
    "bow = vec.fit_transform(x_train)\n",
    "clf = LogisticRegression(random_state=42, max_iter=300)\n",
    "clf.fit(bow, y_train)\n",
    "pred = clf.predict(vec.transform(x_test))\n",
    "print(classification_report(pred, y_test))"
   ]
  },
  {
   "cell_type": "markdown",
   "metadata": {
    "id": "Z_E0uPpgLVSj"
   },
   "source": [
    "В общем-то, теперь уже понятно, почему на этих данных здесь 1. Так или инчае, на символах классифицировать тоже можно: для некторых задач (например, для определения языка) фичи-символьные n-граммы решительно рулят.\n",
    "\n",
    "Ещё одна замечательная особенность фичей-символов: токенизация и лемматизация не нужна, можно использовать такой подход для языков, у которых нет готвых анализаторов."
   ]
  },
  {
   "cell_type": "markdown",
   "metadata": {},
   "source": [
    "### Задание 3.\n",
    "\n",
    "1) сравнить count/tf-idf/hashing векторайзеры/полносвязанную сетку (построить classification_report)"
   ]
  },
  {
   "cell_type": "code",
   "execution_count": 1,
   "metadata": {},
   "outputs": [],
   "source": [
    "import nltk\n",
    "from string import punctuation\n",
    "from stop_words import get_stop_words\n",
    "\n",
    "from sklearn.feature_extraction.text import CountVectorizer, TfidfVectorizer, HashingVectorizer\n",
    "from sklearn.metrics import classification_report\n",
    "from sklearn.linear_model import LogisticRegression\n",
    "\n",
    "from tqdm import tqdm\n",
    "\n",
    "import warnings\n",
    "warnings.filterwarnings(\"ignore\")"
   ]
  },
  {
   "cell_type": "markdown",
   "metadata": {},
   "source": [
    "Для сравнения именно токенизаторов, уберем всю пунктуацию. Для уменьшения признакового пространства будем использовать библиотеку stop_words"
   ]
  },
  {
   "cell_type": "code",
   "execution_count": 55,
   "metadata": {},
   "outputs": [
    {
     "name": "stdout",
     "output_type": "stream",
     "text": [
      "----------------------------------------------------------------------------------------------------\n",
      "CountVectorizer classification reports:\n",
      "----------------------------------------------------------------------------------------------------\n",
      "              precision    recall  f1-score   support\n",
      "\n",
      "    negative       0.77      0.79      0.78     28242\n",
      "    positive       0.79      0.76      0.77     28467\n",
      "\n",
      "    accuracy                           0.78     56709\n",
      "   macro avg       0.78      0.78      0.78     56709\n",
      "weighted avg       0.78      0.78      0.78     56709\n",
      "\n",
      "----------------------------------------------------------------------------------------------------\n",
      "TfidfVectorizer classification reports:\n",
      "----------------------------------------------------------------------------------------------------\n",
      "              precision    recall  f1-score   support\n",
      "\n",
      "    negative       0.78      0.76      0.77     28242\n",
      "    positive       0.77      0.78      0.77     28467\n",
      "\n",
      "    accuracy                           0.77     56709\n",
      "   macro avg       0.77      0.77      0.77     56709\n",
      "weighted avg       0.77      0.77      0.77     56709\n",
      "\n",
      "----------------------------------------------------------------------------------------------------\n",
      "HashingVectorizer classification reports:\n",
      "----------------------------------------------------------------------------------------------------\n",
      "              precision    recall  f1-score   support\n",
      "\n",
      "    negative       0.77      0.76      0.76     28242\n",
      "    positive       0.76      0.77      0.77     28467\n",
      "\n",
      "    accuracy                           0.77     56709\n",
      "   macro avg       0.77      0.77      0.77     56709\n",
      "weighted avg       0.77      0.77      0.77     56709\n",
      "\n"
     ]
    }
   ],
   "source": [
    "vectorizers = [CountVectorizer, TfidfVectorizer, HashingVectorizer]\n",
    "\n",
    "for vectorizer in vectorizers:\n",
    "    vector = vectorizer(analyzer='word',\n",
    "                        ngram_range=(1,1),\n",
    "                        tokenizer=nltk.word_tokenize, \n",
    "                        stop_words=get_stop_words('russian') + list(punctuation))\n",
    "\n",
    "    bow = vector.fit_transform(x_train)\n",
    "    model = LogisticRegression(random_state=42, max_iter=1000)\n",
    "    model.fit(bow, y_train)\n",
    "    y_pred = model.predict(vector.transform(x_test))\n",
    "    print('-' * 100)\n",
    "    print(vectorizer.__name__, 'classification reports:')\n",
    "    print('-' * 100)\n",
    "    print(classification_report(y_test, y_pred))\n"
   ]
  },
  {
   "cell_type": "code",
   "execution_count": 2,
   "metadata": {},
   "outputs": [],
   "source": [
    "import nltk\n",
    "import pandas as pd\n",
    "from sklearn.feature_extraction.text import TfidfVectorizer\n",
    "from sklearn.linear_model import LogisticRegression\n",
    "from sklearn.model_selection import train_test_split\n",
    "from sklearn.metrics import classification_report\n",
    "\n",
    "# считываем данные и заполняем общий датасет\n",
    "positive = pd.read_csv('positive.csv', sep=';', usecols=[3], names=['text'])\n",
    "positive['label'] = [1] * len(positive)\n",
    "negative = pd.read_csv('negative.csv', sep=';', usecols=[3], names=['text'])\n",
    "negative['label'] = [0] * len(negative)\n",
    "df = positive.append(negative)\n",
    "\n",
    "x_train, x_test, y_train, y_test = train_test_split(df.text, df.label)"
   ]
  },
  {
   "cell_type": "markdown",
   "metadata": {},
   "source": [
    "2) подобрать оптимальный размер для hashing векторайзера \n",
    "\n"
   ]
  },
  {
   "cell_type": "markdown",
   "metadata": {},
   "source": [
    "Поиск оптимальной размерности вектора будем проводить по набору параметров с контролем метрики accuracy"
   ]
  },
  {
   "cell_type": "code",
   "execution_count": 19,
   "metadata": {},
   "outputs": [
    {
     "name": "stderr",
     "output_type": "stream",
     "text": [
      "100%|██████████| 8/8 [07:14<00:00, 54.29s/it]\n"
     ]
    }
   ],
   "source": [
    "from sklearn.metrics import accuracy_score\n",
    "from tqdm import tqdm\n",
    "import time\n",
    "\n",
    "accuracies = []\n",
    "n_features_values = [20, 2 ** 5, 2 ** 8, 2 ** 10, 2 ** 12, 2 ** 15, 2 ** 18, 2 ** 20]\n",
    "needed_times = []\n",
    "for n_features in tqdm(n_features_values):\n",
    "    start_time = time.time()\n",
    "    vector = HashingVectorizer(analyzer='word',\n",
    "                            ngram_range=(1,1),\n",
    "                            tokenizer=nltk.word_tokenize, \n",
    "                            stop_words=get_stop_words('russian') + list(punctuation),\n",
    "                            n_features=n_features\n",
    "                        )\n",
    "\n",
    "    bow = vector.fit_transform(x_train)\n",
    "    model = LogisticRegression(random_state=42, max_iter=1000)\n",
    "    model.fit(bow, y_train)\n",
    "    y_pred = model.predict(vector.transform(x_test))\n",
    "    accuracies.append(accuracy_score(y_true=y_test, y_pred=y_pred))\n",
    "    needed_times.append(time.time() - start_time)\n"
   ]
  },
  {
   "cell_type": "code",
   "execution_count": 20,
   "metadata": {},
   "outputs": [
    {
     "data": {
      "image/png": "[encoded data removed]",
      "text/plain": [
       "<Figure size 1152x648 with 2 Axes>"
      ]
     },
     "metadata": {
      "needs_background": "light"
     },
     "output_type": "display_data"
    }
   ],
   "source": [
    "import matplotlib.pyplot as plt\n",
    "\n",
    "plt.figure(figsize=(16, 9))\n",
    "ax1 = plt.subplot(1, 2, 1)\n",
    "plt.plot(n_features_values, accuracies, '-o', c='green')\n",
    "plt.xlabel('n_features')\n",
    "plt.ylabel('accuracy')\n",
    "plt.title('Depending n_features from accuracy metcic')\n",
    "\n",
    "ax2 = plt.subplot(1, 2, 2)\n",
    "plt.plot(n_features_values, needed_times, '-o', c='orange')\n",
    "plt.xlabel('n_features')\n",
    "plt.ylabel('times')\n",
    "plt.title('Depending n_features from needed time')\n",
    "\n",
    "plt.show()"
   ]
  },
  {
   "cell_type": "markdown",
   "metadata": {},
   "source": [
    "Конечно выбор размера embeding зависит от ресурсов, которые нам доступны. Но также можно использовать принцип локтя и выбрать оптимальный n_features из графика выше. В нашем случае - это 2 ** 15. Увеличивая значение n_features выше мы незначительно увеличиваем accuracy, но значительно увеличиваем время работы "
   ]
  },
  {
   "cell_type": "markdown",
   "metadata": {},
   "source": [
    "3) убедиться что для сетки нет переобучения"
   ]
  },
  {
   "cell_type": "markdown",
   "metadata": {},
   "source": [
    "При обучении нейронной сети, контроль за переобучением происходит, путем наблюдения за метриками на отложеной выборке. Из приложено ноутбука виднл, что переобучение нет."
   ]
  }
 ],
 "metadata": {
  "colab": {
   "collapsed_sections": [
    "gJABxhalLVQu",
    "IaQMCGHFLVQ6",
    "5AJk1B39LVRP",
    "RJlvqWuALVRs",
    "rck5OVqhLVSA",
    "mV3fmzp-LVSU",
    "H5THCOjMLVSg",
    "02s2Vh7MLVSj",
    "b1khxRFDLVSm",
    "sfUmWcAQLVSt",
    "BxvtN-3zLVS5",
    "gyrHhYkgLVTB"
   ],
   "name": "sem1_intro_common.ipynb",
   "provenance": []
  },
  "interpreter": {
   "hash": "e151ce023a3c56fea564956d81722e35a5f9597c1844f5562c785452796d4a2d"
  },
  "kernelspec": {
   "display_name": "Python 3.7.13 ('tensorflow')",
   "language": "python",
   "name": "python3"
  },
  "language_info": {
   "codemirror_mode": {
    "name": "ipython",
    "version": 3
   },
   "file_extension": ".py",
   "mimetype": "text/x-python",
   "name": "python",
   "nbconvert_exporter": "python",
   "pygments_lexer": "ipython3",
   "version": "3.7.13"
  }
 },
 "nbformat": 4,
 "nbformat_minor": 1
}
